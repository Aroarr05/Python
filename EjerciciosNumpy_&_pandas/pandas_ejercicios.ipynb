{
 "cells": [
  {
   "cell_type": "markdown",
   "id": "c7327e82-fd82-4234-a5ec-2c94292c198f",
   "metadata": {},
   "source": [
    "# Pandas\n"
   ]
  },
  {
   "cell_type": "markdown",
   "id": "f1acf794",
   "metadata": {},
   "source": [
    "## Series\n"
   ]
  },
  {
   "cell_type": "markdown",
   "id": "1acdb381",
   "metadata": {},
   "source": [
    "**Ejercicio 1:**\n"
   ]
  },
  {
   "cell_type": "markdown",
   "id": "d0c1cfcc-7730-4612-9a49-23f3790b543f",
   "metadata": {},
   "source": [
    "Importar pandas\n"
   ]
  },
  {
   "cell_type": "code",
   "execution_count": 1,
   "id": "fdc297ee-bc0d-42b8-a1cb-c01e45fae36d",
   "metadata": {},
   "outputs": [
    {
     "name": "stdout",
     "output_type": "stream",
     "text": [
      "Defaulting to user installation because normal site-packages is not writeable\n",
      "Collecting pandas\n",
      "  Downloading pandas-2.3.0-cp313-cp313-win_amd64.whl.metadata (19 kB)\n",
      "Requirement already satisfied: numpy>=1.26.0 in c:\\users\\aroar\\appdata\\roaming\\python\\python313\\site-packages (from pandas) (2.3.1)\n",
      "Requirement already satisfied: python-dateutil>=2.8.2 in c:\\users\\aroar\\appdata\\roaming\\python\\python313\\site-packages (from pandas) (2.9.0.post0)\n",
      "Collecting pytz>=2020.1 (from pandas)\n",
      "  Downloading pytz-2025.2-py2.py3-none-any.whl.metadata (22 kB)\n",
      "Collecting tzdata>=2022.7 (from pandas)\n",
      "  Downloading tzdata-2025.2-py2.py3-none-any.whl.metadata (1.4 kB)\n",
      "Requirement already satisfied: six>=1.5 in c:\\users\\aroar\\appdata\\roaming\\python\\python313\\site-packages (from python-dateutil>=2.8.2->pandas) (1.17.0)\n",
      "Downloading pandas-2.3.0-cp313-cp313-win_amd64.whl (11.0 MB)\n",
      "   ---------------------------------------- 0.0/11.0 MB ? eta -:--:--\n",
      "   --------- ------------------------------ 2.6/11.0 MB 19.5 MB/s eta 0:00:01\n",
      "   --------------------- ------------------ 6.0/11.0 MB 16.9 MB/s eta 0:00:01\n",
      "   ------------------------------- -------- 8.7/11.0 MB 15.4 MB/s eta 0:00:01\n",
      "   ------------------------------------- -- 10.2/11.0 MB 13.6 MB/s eta 0:00:01\n",
      "   ---------------------------------------- 11.0/11.0 MB 12.6 MB/s eta 0:00:00\n",
      "Downloading pytz-2025.2-py2.py3-none-any.whl (509 kB)\n",
      "Downloading tzdata-2025.2-py2.py3-none-any.whl (347 kB)\n",
      "Installing collected packages: pytz, tzdata, pandas\n",
      "\n",
      "   ---------------------------------------- 0/3 [pytz]\n",
      "   ---------------------------------------- 0/3 [pytz]\n",
      "   ---------------------------------------- 0/3 [pytz]\n",
      "   ------------- -------------------------- 1/3 [tzdata]\n",
      "   ------------- -------------------------- 1/3 [tzdata]\n",
      "   ------------- -------------------------- 1/3 [tzdata]\n",
      "   -------------------------- ------------- 2/3 [pandas]\n",
      "   -------------------------- ------------- 2/3 [pandas]\n",
      "   -------------------------- ------------- 2/3 [pandas]\n",
      "   -------------------------- ------------- 2/3 [pandas]\n",
      "   -------------------------- ------------- 2/3 [pandas]\n",
      "   -------------------------- ------------- 2/3 [pandas]\n",
      "   -------------------------- ------------- 2/3 [pandas]\n",
      "   -------------------------- ------------- 2/3 [pandas]\n",
      "   -------------------------- ------------- 2/3 [pandas]\n",
      "   -------------------------- ------------- 2/3 [pandas]\n",
      "   -------------------------- ------------- 2/3 [pandas]\n",
      "   -------------------------- ------------- 2/3 [pandas]\n",
      "   -------------------------- ------------- 2/3 [pandas]\n",
      "   -------------------------- ------------- 2/3 [pandas]\n",
      "   -------------------------- ------------- 2/3 [pandas]\n",
      "   -------------------------- ------------- 2/3 [pandas]\n",
      "   -------------------------- ------------- 2/3 [pandas]\n",
      "   -------------------------- ------------- 2/3 [pandas]\n",
      "   -------------------------- ------------- 2/3 [pandas]\n",
      "   -------------------------- ------------- 2/3 [pandas]\n",
      "   -------------------------- ------------- 2/3 [pandas]\n",
      "   -------------------------- ------------- 2/3 [pandas]\n",
      "   -------------------------- ------------- 2/3 [pandas]\n",
      "   -------------------------- ------------- 2/3 [pandas]\n",
      "   -------------------------- ------------- 2/3 [pandas]\n",
      "   -------------------------- ------------- 2/3 [pandas]\n",
      "   -------------------------- ------------- 2/3 [pandas]\n",
      "   -------------------------- ------------- 2/3 [pandas]\n",
      "   -------------------------- ------------- 2/3 [pandas]\n",
      "   -------------------------- ------------- 2/3 [pandas]\n",
      "   -------------------------- ------------- 2/3 [pandas]\n",
      "   -------------------------- ------------- 2/3 [pandas]\n",
      "   -------------------------- ------------- 2/3 [pandas]\n",
      "   -------------------------- ------------- 2/3 [pandas]\n",
      "   -------------------------- ------------- 2/3 [pandas]\n",
      "   -------------------------- ------------- 2/3 [pandas]\n",
      "   -------------------------- ------------- 2/3 [pandas]\n",
      "   -------------------------- ------------- 2/3 [pandas]\n",
      "   -------------------------- ------------- 2/3 [pandas]\n",
      "   -------------------------- ------------- 2/3 [pandas]\n",
      "   -------------------------- ------------- 2/3 [pandas]\n",
      "   -------------------------- ------------- 2/3 [pandas]\n",
      "   -------------------------- ------------- 2/3 [pandas]\n",
      "   -------------------------- ------------- 2/3 [pandas]\n",
      "   -------------------------- ------------- 2/3 [pandas]\n",
      "   -------------------------- ------------- 2/3 [pandas]\n",
      "   -------------------------- ------------- 2/3 [pandas]\n",
      "   -------------------------- ------------- 2/3 [pandas]\n",
      "   -------------------------- ------------- 2/3 [pandas]\n",
      "   -------------------------- ------------- 2/3 [pandas]\n",
      "   -------------------------- ------------- 2/3 [pandas]\n",
      "   -------------------------- ------------- 2/3 [pandas]\n",
      "   -------------------------- ------------- 2/3 [pandas]\n",
      "   -------------------------- ------------- 2/3 [pandas]\n",
      "   -------------------------- ------------- 2/3 [pandas]\n",
      "   -------------------------- ------------- 2/3 [pandas]\n",
      "   -------------------------- ------------- 2/3 [pandas]\n",
      "   -------------------------- ------------- 2/3 [pandas]\n",
      "   -------------------------- ------------- 2/3 [pandas]\n",
      "   -------------------------- ------------- 2/3 [pandas]\n",
      "   -------------------------- ------------- 2/3 [pandas]\n",
      "   -------------------------- ------------- 2/3 [pandas]\n",
      "   -------------------------- ------------- 2/3 [pandas]\n",
      "   -------------------------- ------------- 2/3 [pandas]\n",
      "   -------------------------- ------------- 2/3 [pandas]\n",
      "   -------------------------- ------------- 2/3 [pandas]\n",
      "   -------------------------- ------------- 2/3 [pandas]\n",
      "   -------------------------- ------------- 2/3 [pandas]\n",
      "   -------------------------- ------------- 2/3 [pandas]\n",
      "   -------------------------- ------------- 2/3 [pandas]\n",
      "   -------------------------- ------------- 2/3 [pandas]\n",
      "   -------------------------- ------------- 2/3 [pandas]\n",
      "   -------------------------- ------------- 2/3 [pandas]\n",
      "   -------------------------- ------------- 2/3 [pandas]\n",
      "   -------------------------- ------------- 2/3 [pandas]\n",
      "   -------------------------- ------------- 2/3 [pandas]\n",
      "   -------------------------- ------------- 2/3 [pandas]\n",
      "   -------------------------- ------------- 2/3 [pandas]\n",
      "   -------------------------- ------------- 2/3 [pandas]\n",
      "   -------------------------- ------------- 2/3 [pandas]\n",
      "   -------------------------- ------------- 2/3 [pandas]\n",
      "   -------------------------- ------------- 2/3 [pandas]\n",
      "   -------------------------- ------------- 2/3 [pandas]\n",
      "   -------------------------- ------------- 2/3 [pandas]\n",
      "   -------------------------- ------------- 2/3 [pandas]\n",
      "   -------------------------- ------------- 2/3 [pandas]\n",
      "   -------------------------- ------------- 2/3 [pandas]\n",
      "   -------------------------- ------------- 2/3 [pandas]\n",
      "   -------------------------- ------------- 2/3 [pandas]\n",
      "   -------------------------- ------------- 2/3 [pandas]\n",
      "   -------------------------- ------------- 2/3 [pandas]\n",
      "   -------------------------- ------------- 2/3 [pandas]\n",
      "   -------------------------- ------------- 2/3 [pandas]\n",
      "   -------------------------- ------------- 2/3 [pandas]\n",
      "   -------------------------- ------------- 2/3 [pandas]\n",
      "   -------------------------- ------------- 2/3 [pandas]\n",
      "   -------------------------- ------------- 2/3 [pandas]\n",
      "   -------------------------- ------------- 2/3 [pandas]\n",
      "   -------------------------- ------------- 2/3 [pandas]\n",
      "   -------------------------- ------------- 2/3 [pandas]\n",
      "   -------------------------- ------------- 2/3 [pandas]\n",
      "   -------------------------- ------------- 2/3 [pandas]\n",
      "   -------------------------- ------------- 2/3 [pandas]\n",
      "   -------------------------- ------------- 2/3 [pandas]\n",
      "   -------------------------- ------------- 2/3 [pandas]\n",
      "   -------------------------- ------------- 2/3 [pandas]\n",
      "   -------------------------- ------------- 2/3 [pandas]\n",
      "   -------------------------- ------------- 2/3 [pandas]\n",
      "   -------------------------- ------------- 2/3 [pandas]\n",
      "   -------------------------- ------------- 2/3 [pandas]\n",
      "   -------------------------- ------------- 2/3 [pandas]\n",
      "   -------------------------- ------------- 2/3 [pandas]\n",
      "   -------------------------- ------------- 2/3 [pandas]\n",
      "   -------------------------- ------------- 2/3 [pandas]\n",
      "   -------------------------- ------------- 2/3 [pandas]\n",
      "   -------------------------- ------------- 2/3 [pandas]\n",
      "   -------------------------- ------------- 2/3 [pandas]\n",
      "   -------------------------- ------------- 2/3 [pandas]\n",
      "   -------------------------- ------------- 2/3 [pandas]\n",
      "   -------------------------- ------------- 2/3 [pandas]\n",
      "   -------------------------- ------------- 2/3 [pandas]\n",
      "   -------------------------- ------------- 2/3 [pandas]\n",
      "   -------------------------- ------------- 2/3 [pandas]\n",
      "   -------------------------- ------------- 2/3 [pandas]\n",
      "   -------------------------- ------------- 2/3 [pandas]\n",
      "   -------------------------- ------------- 2/3 [pandas]\n",
      "   -------------------------- ------------- 2/3 [pandas]\n",
      "   -------------------------- ------------- 2/3 [pandas]\n",
      "   -------------------------- ------------- 2/3 [pandas]\n",
      "   -------------------------- ------------- 2/3 [pandas]\n",
      "   -------------------------- ------------- 2/3 [pandas]\n",
      "   -------------------------- ------------- 2/3 [pandas]\n",
      "   -------------------------- ------------- 2/3 [pandas]\n",
      "   -------------------------- ------------- 2/3 [pandas]\n",
      "   -------------------------- ------------- 2/3 [pandas]\n",
      "   ---------------------------------------- 3/3 [pandas]\n",
      "\n",
      "Successfully installed pandas-2.3.0 pytz-2025.2 tzdata-2025.2\n"
     ]
    }
   ],
   "source": [
    "!pip install pandas\n",
    "\n",
    "import pandas as pd\n"
   ]
  },
  {
   "cell_type": "markdown",
   "id": "6abe2412-1096-42ef-ac26-97d52d483563",
   "metadata": {},
   "source": [
    "**Ejercicio 2:**\n"
   ]
  },
  {
   "cell_type": "code",
   "execution_count": 3,
   "id": "d06d31a3-2aba-4262-ba57-bb8b5989bb0f",
   "metadata": {},
   "outputs": [],
   "source": [
    "altura_cm = [178, 166, 155, 181, 176, 189, 190, 156]"
   ]
  },
  {
   "cell_type": "markdown",
   "id": "a280bead-9a9a-4605-8954-e47d37cac2a6",
   "metadata": {},
   "source": [
    "Crea una serie llamada \"altura\" en base a la lista anterior utilizando `pd.Series()`\n"
   ]
  },
  {
   "cell_type": "code",
   "execution_count": 4,
   "id": "2fc49c07-0660-44da-8fd0-c5f71fbf67d7",
   "metadata": {},
   "outputs": [
    {
     "name": "stdout",
     "output_type": "stream",
     "text": [
      "0    178\n",
      "1    166\n",
      "2    155\n",
      "3    181\n",
      "4    176\n",
      "5    189\n",
      "6    190\n",
      "7    156\n",
      "dtype: int64\n"
     ]
    }
   ],
   "source": [
    "altura = pd.Series(altura_cm)\n",
    "\n",
    "print(altura)"
   ]
  },
  {
   "cell_type": "markdown",
   "id": "a7f7692d-63e3-4688-bbda-9c5dc9340e0f",
   "metadata": {},
   "source": [
    "**Ejercicio 3:**\n"
   ]
  },
  {
   "cell_type": "markdown",
   "id": "761210c4",
   "metadata": {},
   "source": [
    "Inspeccionar los primeros 5 elementos con .head()\n"
   ]
  },
  {
   "cell_type": "code",
   "execution_count": 5,
   "id": "4d0aa5ca-e154-4f9b-9b25-7c7f2695e06b",
   "metadata": {},
   "outputs": [
    {
     "name": "stdout",
     "output_type": "stream",
     "text": [
      "0    178\n",
      "1    166\n",
      "2    155\n",
      "3    181\n",
      "4    176\n",
      "dtype: int64\n"
     ]
    }
   ],
   "source": [
    "print(altura.head())"
   ]
  },
  {
   "cell_type": "markdown",
   "id": "d7c21cc3-407d-44ef-82a9-82733f2bffee",
   "metadata": {},
   "source": [
    "Inspeccionar los primeros 3 elementos con .head\n"
   ]
  },
  {
   "cell_type": "code",
   "execution_count": 6,
   "id": "3aa7c127-4943-45f2-a5a3-3e9ef4cc7589",
   "metadata": {},
   "outputs": [
    {
     "name": "stdout",
     "output_type": "stream",
     "text": [
      "0    178\n",
      "1    166\n",
      "2    155\n",
      "dtype: int64\n"
     ]
    }
   ],
   "source": [
    "print(altura.head(3))"
   ]
  },
  {
   "cell_type": "markdown",
   "id": "ef3847b6-eda7-4fd1-b115-3c240a2413a7",
   "metadata": {},
   "source": [
    "**Ejercicio 4:**\n"
   ]
  },
  {
   "cell_type": "markdown",
   "id": "7ebe38ea-eef2-49d6-b15e-a9ecb2a52b2c",
   "metadata": {},
   "source": [
    "Ordena los valores de la serie \"altura\". Esto es un paso de la operación, no cambia la \"altura\" original\n"
   ]
  },
  {
   "cell_type": "code",
   "execution_count": 7,
   "id": "15be0acf-6149-4104-a361-ac862e9e6620",
   "metadata": {},
   "outputs": [
    {
     "name": "stdout",
     "output_type": "stream",
     "text": [
      "2    155\n",
      "7    156\n",
      "1    166\n",
      "4    176\n",
      "0    178\n",
      "3    181\n",
      "5    189\n",
      "6    190\n",
      "dtype: int64\n"
     ]
    }
   ],
   "source": [
    "altura_ordenada = altura.sort_values()\n",
    "print(altura_ordenada)"
   ]
  },
  {
   "cell_type": "markdown",
   "id": "5dd95a43-7d3d-426a-9bd1-48e1bd3b2da9",
   "metadata": {},
   "source": [
    "**Ejercicio 5:**\n"
   ]
  },
  {
   "cell_type": "markdown",
   "id": "761e91bc-f278-4380-ba5b-d05f9cbdec6f",
   "metadata": {},
   "source": [
    "Obtener el valor mínimo en la serie \"altura\"\n"
   ]
  },
  {
   "cell_type": "code",
   "execution_count": 8,
   "id": "94b41715-3d42-427e-a3fd-240487b0ea90",
   "metadata": {},
   "outputs": [
    {
     "name": "stdout",
     "output_type": "stream",
     "text": [
      "Valor mínimo: 155\n"
     ]
    }
   ],
   "source": [
    "minimo = altura.min()\n",
    "print(\"Valor mínimo:\", minimo)"
   ]
  },
  {
   "cell_type": "markdown",
   "id": "1d7ff614",
   "metadata": {},
   "source": [
    "Obtener el valor máximo en la serie \"altura\"\n"
   ]
  },
  {
   "cell_type": "code",
   "execution_count": 9,
   "id": "8862fa16",
   "metadata": {},
   "outputs": [
    {
     "name": "stdout",
     "output_type": "stream",
     "text": [
      "Valor máximo: 190\n"
     ]
    }
   ],
   "source": [
    "maximo = altura.max()\n",
    "print(\"Valor máximo:\", maximo)"
   ]
  },
  {
   "cell_type": "markdown",
   "id": "efd8ece9",
   "metadata": {},
   "source": [
    "Obtener el valor promedio en la serie \"altura\"\n"
   ]
  },
  {
   "cell_type": "code",
   "execution_count": 10,
   "id": "45b9f43a",
   "metadata": {},
   "outputs": [
    {
     "name": "stdout",
     "output_type": "stream",
     "text": [
      "Valor promedio: 173.875\n"
     ]
    }
   ],
   "source": [
    "promedio = altura.mean()\n",
    "print(\"Valor promedio:\", promedio)"
   ]
  },
  {
   "cell_type": "markdown",
   "id": "41d1aac8",
   "metadata": {},
   "source": [
    "Obtener la suma de la serie \"altura\"\n"
   ]
  },
  {
   "cell_type": "code",
   "execution_count": 11,
   "id": "ff854a6f",
   "metadata": {},
   "outputs": [
    {
     "name": "stdout",
     "output_type": "stream",
     "text": [
      "Suma total: 1391\n"
     ]
    }
   ],
   "source": [
    "suma = altura.sum()\n",
    "print(\"Suma total:\", suma)"
   ]
  },
  {
   "cell_type": "markdown",
   "id": "67a2d007-ddec-41df-8bb2-df4a51420fae",
   "metadata": {},
   "source": [
    "**Ejercicio 6:**\n"
   ]
  },
  {
   "cell_type": "markdown",
   "id": "95aebac0-6ef3-45de-a8a8-be4d7cb71d7c",
   "metadata": {},
   "source": [
    "Obtener una descripción general de los valores en la serie \"altura\"\n"
   ]
  },
  {
   "cell_type": "code",
   "execution_count": 12,
   "id": "d2997bc4-ae45-4b4a-aa36-7329dc32b33e",
   "metadata": {},
   "outputs": [
    {
     "name": "stdout",
     "output_type": "stream",
     "text": [
      "count      8.000000\n",
      "mean     173.875000\n",
      "std       13.621805\n",
      "min      155.000000\n",
      "25%      163.500000\n",
      "50%      177.000000\n",
      "75%      183.000000\n",
      "max      190.000000\n",
      "dtype: float64\n"
     ]
    }
   ],
   "source": [
    "descripcion = altura.describe()\n",
    "print(descripcion)"
   ]
  },
  {
   "cell_type": "markdown",
   "id": "d97f5126-5e89-4e84-bff8-8ab2922ebccb",
   "metadata": {},
   "source": [
    "**Ejercicio 7:**\n"
   ]
  },
  {
   "cell_type": "markdown",
   "id": "9b4f9ead-3891-4b57-b174-b601dc0683bf",
   "metadata": {},
   "source": [
    "Obtener las alturas que superen los 170 cm en la serie \"altura\"\n"
   ]
  },
  {
   "cell_type": "code",
   "execution_count": 13,
   "id": "8cdb9077-e8b1-4c35-ad3a-4ec715e79112",
   "metadata": {},
   "outputs": [
    {
     "name": "stdout",
     "output_type": "stream",
     "text": [
      "0    178\n",
      "3    181\n",
      "4    176\n",
      "5    189\n",
      "6    190\n",
      "dtype: int64\n"
     ]
    }
   ],
   "source": [
    "alturas_mayores_170 = altura[altura > 170]\n",
    "print(alturas_mayores_170)\n"
   ]
  },
  {
   "cell_type": "markdown",
   "id": "31da554b-5b01-4c72-a240-31daba880c19",
   "metadata": {},
   "source": [
    "## Dataframes\n"
   ]
  },
  {
   "cell_type": "markdown",
   "id": "2cf7d573",
   "metadata": {},
   "source": [
    "**Ejercicio 8:**\n"
   ]
  },
  {
   "cell_type": "code",
   "execution_count": 14,
   "id": "c05f65d7-55df-4bb3-862e-7eab91a3d3d9",
   "metadata": {},
   "outputs": [],
   "source": [
    "datos = {\"Nombre\": [\"Erika\", \"Elías\", \"Miguel\", \"Karla\", \"Gabriela\"],\n",
    "        \"Edad\": [23, 24, 21, 25, 22],\n",
    "        \"Altura\": [173, 194, 165, 154, 176],\n",
    "        \"Peso\": [83.2, 65.4, 71.1, 67.9, 71.8]}"
   ]
  },
  {
   "cell_type": "markdown",
   "id": "fd702fb3-3cd9-45d6-8032-57bbec0a51b1",
   "metadata": {},
   "source": [
    "Crea un Dataframe llamado \"amigos\" utilizando el diccionario anterior\n"
   ]
  },
  {
   "cell_type": "code",
   "execution_count": 15,
   "id": "587782ef",
   "metadata": {},
   "outputs": [
    {
     "name": "stdout",
     "output_type": "stream",
     "text": [
      "     Nombre  Edad  Altura  Peso\n",
      "0     Erika    23     173  83.2\n",
      "1     Elías    24     194  65.4\n",
      "2    Miguel    21     165  71.1\n",
      "3     Karla    25     154  67.9\n",
      "4  Gabriela    22     176  71.8\n"
     ]
    }
   ],
   "source": [
    "amigos = pd.DataFrame(datos)\n",
    "print(amigos)"
   ]
  },
  {
   "cell_type": "markdown",
   "id": "a42828a6-38db-46fd-8fa8-301a8838c627",
   "metadata": {},
   "source": [
    "**Ejercicio 9:**\n"
   ]
  },
  {
   "cell_type": "markdown",
   "id": "07984df0",
   "metadata": {},
   "source": [
    "Obtener una descripción general de los datos numéricos en el DataFrame \"amigos\":\n"
   ]
  },
  {
   "cell_type": "code",
   "execution_count": 16,
   "id": "85cc30af-250f-4ab8-a7cf-eed247a0dea9",
   "metadata": {},
   "outputs": [
    {
     "name": "stdout",
     "output_type": "stream",
     "text": [
      "            Edad      Altura       Peso\n",
      "count   5.000000    5.000000   5.000000\n",
      "mean   23.000000  172.400000  71.880000\n",
      "std     1.581139   14.774979   6.829861\n",
      "min    21.000000  154.000000  65.400000\n",
      "25%    22.000000  165.000000  67.900000\n",
      "50%    23.000000  173.000000  71.100000\n",
      "75%    24.000000  176.000000  71.800000\n",
      "max    25.000000  194.000000  83.200000\n"
     ]
    }
   ],
   "source": [
    "descripcion = amigos.describe()\n",
    "print(descripcion)"
   ]
  },
  {
   "cell_type": "markdown",
   "id": "d04b6ccf-5d9b-4769-a3a2-d65d93e644d4",
   "metadata": {},
   "source": [
    "**Ejercicio 10:**\n"
   ]
  },
  {
   "cell_type": "markdown",
   "id": "a5624bd4-06c2-4959-8e10-d1b8e0227705",
   "metadata": {},
   "source": [
    "Obtener los datos de los **amigos** con una **edad** menor a 23 años\n"
   ]
  },
  {
   "cell_type": "code",
   "execution_count": 17,
   "id": "aa9439dc-b364-465c-b260-ca47fd9fcec4",
   "metadata": {},
   "outputs": [
    {
     "name": "stdout",
     "output_type": "stream",
     "text": [
      "     Nombre  Edad  Altura  Peso\n",
      "2    Miguel    21     165  71.1\n",
      "4  Gabriela    22     176  71.8\n"
     ]
    }
   ],
   "source": [
    "menores_23 = amigos[amigos[\"Edad\"] < 23]\n",
    "print(menores_23)"
   ]
  },
  {
   "cell_type": "markdown",
   "id": "155bbcd6-88d5-4cdc-9a05-c50f26f5187f",
   "metadata": {},
   "source": [
    "**Ejercicio 11:**\n"
   ]
  },
  {
   "cell_type": "markdown",
   "id": "c0b81a7c-aa51-4400-9527-130a5bbcc8d5",
   "metadata": {},
   "source": [
    "Importar los datos en el archivo \"amigos.xlsx\" en un DataFrame llamado \"amigos\" y muéstralos\n"
   ]
  },
  {
   "cell_type": "code",
   "execution_count": 23,
   "id": "6e91a06c-c9ec-4600-a220-1c3e75668def",
   "metadata": {},
   "outputs": [
    {
     "name": "stdout",
     "output_type": "stream",
     "text": [
      "Defaulting to user installation because normal site-packages is not writeable\n",
      "Collecting openpyxl\n",
      "  Downloading openpyxl-3.1.5-py2.py3-none-any.whl.metadata (2.5 kB)\n",
      "Collecting et-xmlfile (from openpyxl)\n",
      "  Downloading et_xmlfile-2.0.0-py3-none-any.whl.metadata (2.7 kB)\n",
      "Downloading openpyxl-3.1.5-py2.py3-none-any.whl (250 kB)\n",
      "Downloading et_xmlfile-2.0.0-py3-none-any.whl (18 kB)\n",
      "Installing collected packages: et-xmlfile, openpyxl\n",
      "\n",
      "   -------------------- ------------------- 1/2 [openpyxl]\n",
      "   -------------------- ------------------- 1/2 [openpyxl]\n",
      "   -------------------- ------------------- 1/2 [openpyxl]\n",
      "   -------------------- ------------------- 1/2 [openpyxl]\n",
      "   -------------------- ------------------- 1/2 [openpyxl]\n",
      "   -------------------- ------------------- 1/2 [openpyxl]\n",
      "   -------------------- ------------------- 1/2 [openpyxl]\n",
      "   -------------------- ------------------- 1/2 [openpyxl]\n",
      "   -------------------- ------------------- 1/2 [openpyxl]\n",
      "   -------------------- ------------------- 1/2 [openpyxl]\n",
      "   -------------------- ------------------- 1/2 [openpyxl]\n",
      "   -------------------- ------------------- 1/2 [openpyxl]\n",
      "   -------------------- ------------------- 1/2 [openpyxl]\n",
      "   -------------------- ------------------- 1/2 [openpyxl]\n",
      "   -------------------- ------------------- 1/2 [openpyxl]\n",
      "   ---------------------------------------- 2/2 [openpyxl]\n",
      "\n",
      "Successfully installed et-xmlfile-2.0.0 openpyxl-3.1.5\n",
      "     Id     Nombre Apellido Pat  Apellido Mat  Edad  Altura  Peso\n",
      "0     1     Sergio      Negrete         Terán    18     163  90.9\n",
      "1     2       Jean       Vidrio        Piñeda    23     166  61.3\n",
      "2     3      María        Feria         Núñez    22     185  77.1\n",
      "3     4    William   Valdovinos         López    22     155  84.6\n",
      "4     5    Bastian   Richardson  De La Fuente    17     187  87.0\n",
      "..  ...        ...          ...           ...   ...     ...   ...\n",
      "95   96  Stephanie         Peña         Rubio    20     188  52.9\n",
      "96   97     Marvin        Ramón          Ríos    24     167  98.3\n",
      "97   98    Nicolás        Bravo       Pascual    19     171  76.7\n",
      "98   99       Lily       Ávalos         Salín    19     168  58.6\n",
      "99  100     Moises      Navarro       Briones    21     171  55.2\n",
      "\n",
      "[100 rows x 7 columns]\n"
     ]
    }
   ],
   "source": [
    "!pip install openpyxl\n",
    "\n",
    "import pandas as pd\n",
    "\n",
    "amigos = pd.read_excel(\"./amigos.xlsx\")\n",
    "print(amigos)\n"
   ]
  },
  {
   "cell_type": "markdown",
   "id": "8c035e20",
   "metadata": {},
   "source": [
    "Mostrar los 5 primeros elementos\n"
   ]
  },
  {
   "cell_type": "code",
   "execution_count": 24,
   "id": "1cb633ce",
   "metadata": {},
   "outputs": [
    {
     "name": "stdout",
     "output_type": "stream",
     "text": [
      "   Id   Nombre Apellido Pat  Apellido Mat  Edad  Altura  Peso\n",
      "0   1   Sergio      Negrete         Terán    18     163  90.9\n",
      "1   2     Jean       Vidrio        Piñeda    23     166  61.3\n",
      "2   3    María        Feria         Núñez    22     185  77.1\n",
      "3   4  William   Valdovinos         López    22     155  84.6\n",
      "4   5  Bastian   Richardson  De La Fuente    17     187  87.0\n"
     ]
    }
   ],
   "source": [
    "print(amigos.head())"
   ]
  },
  {
   "cell_type": "markdown",
   "id": "58d20edf",
   "metadata": {},
   "source": [
    "Cuenta los elementos\n"
   ]
  },
  {
   "cell_type": "code",
   "execution_count": 25,
   "id": "ba04e2c1",
   "metadata": {},
   "outputs": [
    {
     "name": "stdout",
     "output_type": "stream",
     "text": [
      "Número de filas: 100\n"
     ]
    }
   ],
   "source": [
    "cantidad_filas = len(amigos)\n",
    "print(\"Número de filas:\", cantidad_filas)"
   ]
  },
  {
   "cell_type": "markdown",
   "id": "8bd317ad-9cae-4dff-a928-726ebda177bf",
   "metadata": {},
   "source": [
    "**Ejercicio 12:**\n"
   ]
  },
  {
   "cell_type": "markdown",
   "id": "03a56414-a7b0-4dff-a351-11af200156ee",
   "metadata": {},
   "source": [
    "Obtener los datos de los amigos con una edad menor a 21 años\n"
   ]
  },
  {
   "cell_type": "code",
   "execution_count": 26,
   "id": "98e5e936-d60c-4d71-a750-2f9a2f8d21bf",
   "metadata": {},
   "outputs": [
    {
     "name": "stdout",
     "output_type": "stream",
     "text": [
      "    Id     Nombre  Apellido Pat  Apellido Mat  Edad  Altura  Peso\n",
      "0    1     Sergio       Negrete         Terán    18     163  90.9\n",
      "4    5    Bastian    Richardson  De La Fuente    17     187  87.0\n",
      "7    8      Jamir       Aguirre      Escobedo    17     169  77.5\n",
      "11  12   Cristina       Montaño    Richardson    19     156  73.4\n",
      "12  13     Rafael      Berlanga        Burgos    20     167  56.1\n",
      "13  14      Elías         Durán        Aburto    17     185  65.0\n",
      "17  18      Maria      Gallegos        Becker    20     161  87.3\n",
      "29  30       Alba       Briones          Kaft    19     173  92.8\n",
      "32  33       Lisa       Márquez         Salas    17     163  93.9\n",
      "35  36      Simón  De La Fuente        Ibarra    17     190  85.6\n",
      "37  38     Klever       Fuentes     Villareal    17     171  80.2\n",
      "41  42     Pamela       Soberón        Ortega    17     172  72.6\n",
      "42  43   Leopoldo       Infante        Nathal    19     174  62.6\n",
      "43  44    Claudio        Cetina      Espinoza    20     169  68.4\n",
      "45  46    Teodoro       Lazcano          Kaft    20     173  94.5\n",
      "46  47    Esteban       Mendoza       Cervera    20     167  66.6\n",
      "50  51       Adán      Sandoval        Campos    17     181  61.6\n",
      "51  52      Diana       Barajas       Fuentes    20     160  68.9\n",
      "54  55      Elena        Santos      Cisneros    20     160  57.9\n",
      "55  56   Victoria    Santamaría         Durán    20     187  50.2\n",
      "56  57       Lara     Fernández          Vera    19     167  55.5\n",
      "57  58     Eugene      Peñalosa        Llamas    17     172  78.4\n",
      "62  63    Mildred          Luna       Escobar    19     190  52.7\n",
      "64  65     Flavio        Campos         Sarti    19     164  76.4\n",
      "65  66       Paul    Villalobos       Lazcano    20     171  85.6\n",
      "67  68       Adán       Barajas       Basurto    19     174  93.7\n",
      "69  70       Luna       Aguilar       Padilla    19     175  78.5\n",
      "71  72       Hugo         Tovar          Orea    18     189  87.4\n",
      "72  73    Celeste   Valenciano         Acosta    19     182  62.7\n",
      "74  75     Demian     Domínguez        Llamas    19     162  74.9\n",
      "77  78    Arnoldo       Mercado       Lazcano    19     168  91.7\n",
      "80  81      Johan     Sepúlvedo     Maldonado    20     183  98.8\n",
      "83  84    Alberto       Barrera     Sifuentes    19     172  92.9\n",
      "85  86      Clara        Arenas          Vega    19     189  56.0\n",
      "86  87   Leopoldo        Ocampo          Díaz    18     155  57.1\n",
      "87  88   Casandra       Verdejo          Cruz    17     171  64.6\n",
      "89  90       Luna         Ávila          Alva    18     181  72.0\n",
      "90  91      Lucía       Galindo      Alvarado    18     158  94.8\n",
      "91  92      Félix        Varela          Rojo    17     169  72.2\n",
      "94  95     Yasmín       Briones       Vallejo    20     180  86.7\n",
      "95  96  Stephanie          Peña         Rubio    20     188  52.9\n",
      "97  98    Nicolás         Bravo       Pascual    19     171  76.7\n",
      "98  99       Lily        Ávalos         Salín    19     168  58.6\n"
     ]
    }
   ],
   "source": [
    "menores_21 = amigos[amigos[\"Edad\"] < 21]\n",
    "print(menores_21)"
   ]
  },
  {
   "cell_type": "markdown",
   "id": "7b311d70-aedb-42c5-a1d6-690d0a9919b3",
   "metadata": {},
   "source": [
    "**Ejercicio 13:**\n"
   ]
  },
  {
   "cell_type": "markdown",
   "id": "4965dab5-9b59-40b7-8246-4cf089550b74",
   "metadata": {},
   "source": [
    "Importar los datos en el archivo \"universidad.xlsx\" en un DataFrame llamado \"universidad\"\n"
   ]
  },
  {
   "cell_type": "code",
   "execution_count": 27,
   "id": "336bd3a7-b45d-4a1e-bcce-74910ec6b328",
   "metadata": {},
   "outputs": [
    {
     "name": "stdout",
     "output_type": "stream",
     "text": [
      "   Num Control              Carrera  Semestre Inscripción  Id Persona\n",
      "0     SeNeTe01  Lic. en nutriología         7  2015-05-20           1\n",
      "1     JeViPi02         Ing. química         8  2015-05-02           2\n",
      "2     MaFeNú03      Lic. en derecho         6  2015-05-09           3\n",
      "3     WiVaLó04     Ing. en sistemas         2  2016-12-03           4\n",
      "4     BaRiDe05     Ing. mecatrónica        10  2018-12-01           5\n",
      "..         ...                  ...       ...         ...         ...\n",
      "95    StPeRu96  Lic. en nutriología         2  2015-12-15          96\n",
      "96    MaRaRí97      Lic. en derecho         7  2016-12-28          97\n",
      "97    NiBrPa98     Ing. mecatrónica         8  2015-05-14          98\n",
      "98    LiÁvSa99  Lic. en nutriología         4  2016-05-28          99\n",
      "99   MoNaBr100     Ing. mecatrónica         2  2018-05-11         100\n",
      "\n",
      "[100 rows x 5 columns]\n"
     ]
    }
   ],
   "source": [
    "universidad = pd.read_excel(\"universidad.xlsx\")\n",
    "print(universidad)"
   ]
  },
  {
   "cell_type": "markdown",
   "id": "5d8e1328",
   "metadata": {},
   "source": [
    "Muestra los primeros elementos de \"universidad\"\n"
   ]
  },
  {
   "cell_type": "code",
   "execution_count": 28,
   "id": "b91eda2e-1ae1-44fe-845d-f38fa71da28e",
   "metadata": {},
   "outputs": [
    {
     "name": "stdout",
     "output_type": "stream",
     "text": [
      "  Num Control              Carrera  Semestre Inscripción  Id Persona\n",
      "0    SeNeTe01  Lic. en nutriología         7  2015-05-20           1\n",
      "1    JeViPi02         Ing. química         8  2015-05-02           2\n",
      "2    MaFeNú03      Lic. en derecho         6  2015-05-09           3\n"
     ]
    }
   ],
   "source": [
    "print(universidad.head(3))\n"
   ]
  },
  {
   "cell_type": "markdown",
   "id": "3079af44",
   "metadata": {},
   "source": [
    "Muestra los primeros elementos de \"amigos\"\n"
   ]
  },
  {
   "cell_type": "code",
   "execution_count": 29,
   "id": "ef9d7a03",
   "metadata": {},
   "outputs": [
    {
     "name": "stdout",
     "output_type": "stream",
     "text": [
      "   Id   Nombre Apellido Pat  Apellido Mat  Edad  Altura  Peso\n",
      "0   1   Sergio      Negrete         Terán    18     163  90.9\n",
      "1   2     Jean       Vidrio        Piñeda    23     166  61.3\n",
      "2   3    María        Feria         Núñez    22     185  77.1\n",
      "3   4  William   Valdovinos         López    22     155  84.6\n",
      "4   5  Bastian   Richardson  De La Fuente    17     187  87.0\n"
     ]
    }
   ],
   "source": [
    "print(amigos.head())"
   ]
  },
  {
   "cell_type": "markdown",
   "id": "93474f2c-03ed-4c5e-8eaf-58503cf1476e",
   "metadata": {},
   "source": [
    "**Ejercicio 14:**\n"
   ]
  },
  {
   "cell_type": "markdown",
   "id": "ce6d972e-370e-4c20-aa5f-da7842f765a9",
   "metadata": {},
   "source": [
    "Utilizar la función \"merge\" para unir en una variable \"estudiantes\" las tablas \"amigos\" y \"universidad\" en base a:\n",
    "\n",
    "- La columna \"id\" en la tabla \"amigos\"\n",
    "- La columna \"id Persona\" en la tabla \"universidad\"\n"
   ]
  },
  {
   "cell_type": "code",
   "execution_count": 35,
   "id": "f6cd3814-1cf1-47cf-98be-2dac3bcd3573",
   "metadata": {},
   "outputs": [
    {
     "name": "stdout",
     "output_type": "stream",
     "text": [
      "     Id     Nombre Apellido Pat  Apellido Mat  Edad  Altura  Peso Num Control  \\\n",
      "0     1     Sergio      Negrete         Terán    18     163  90.9    SeNeTe01   \n",
      "1     2       Jean       Vidrio        Piñeda    23     166  61.3    JeViPi02   \n",
      "2     3      María        Feria         Núñez    22     185  77.1    MaFeNú03   \n",
      "3     4    William   Valdovinos         López    22     155  84.6    WiVaLó04   \n",
      "4     5    Bastian   Richardson  De La Fuente    17     187  87.0    BaRiDe05   \n",
      "..  ...        ...          ...           ...   ...     ...   ...         ...   \n",
      "95   96  Stephanie         Peña         Rubio    20     188  52.9    StPeRu96   \n",
      "96   97     Marvin        Ramón          Ríos    24     167  98.3    MaRaRí97   \n",
      "97   98    Nicolás        Bravo       Pascual    19     171  76.7    NiBrPa98   \n",
      "98   99       Lily       Ávalos         Salín    19     168  58.6    LiÁvSa99   \n",
      "99  100     Moises      Navarro       Briones    21     171  55.2   MoNaBr100   \n",
      "\n",
      "                Carrera  Semestre Inscripción  Id Persona  \n",
      "0   Lic. en nutriología         7  2015-05-20           1  \n",
      "1          Ing. química         8  2015-05-02           2  \n",
      "2       Lic. en derecho         6  2015-05-09           3  \n",
      "3      Ing. en sistemas         2  2016-12-03           4  \n",
      "4      Ing. mecatrónica        10  2018-12-01           5  \n",
      "..                  ...       ...         ...         ...  \n",
      "95  Lic. en nutriología         2  2015-12-15          96  \n",
      "96      Lic. en derecho         7  2016-12-28          97  \n",
      "97     Ing. mecatrónica         8  2015-05-14          98  \n",
      "98  Lic. en nutriología         4  2016-05-28          99  \n",
      "99     Ing. mecatrónica         2  2018-05-11         100  \n",
      "\n",
      "[100 rows x 12 columns]\n"
     ]
    }
   ],
   "source": [
    "estudiantes = pd.merge(amigos, universidad, left_on=\"Id\", right_on=\"Id Persona\")\n",
    "print(estudiantes)\n",
    "\n"
   ]
  },
  {
   "cell_type": "markdown",
   "id": "a7aeac96",
   "metadata": {},
   "source": [
    "Muestra los primeros elementos\n"
   ]
  },
  {
   "cell_type": "code",
   "execution_count": 36,
   "id": "6aefe781-fce0-475e-b583-09642e942696",
   "metadata": {},
   "outputs": [
    {
     "name": "stdout",
     "output_type": "stream",
     "text": [
      "   Id   Nombre Apellido Pat  Apellido Mat  Edad  Altura  Peso Num Control  \\\n",
      "0   1   Sergio      Negrete         Terán    18     163  90.9    SeNeTe01   \n",
      "1   2     Jean       Vidrio        Piñeda    23     166  61.3    JeViPi02   \n",
      "2   3    María        Feria         Núñez    22     185  77.1    MaFeNú03   \n",
      "3   4  William   Valdovinos         López    22     155  84.6    WiVaLó04   \n",
      "4   5  Bastian   Richardson  De La Fuente    17     187  87.0    BaRiDe05   \n",
      "\n",
      "               Carrera  Semestre Inscripción  Id Persona  \n",
      "0  Lic. en nutriología         7  2015-05-20           1  \n",
      "1         Ing. química         8  2015-05-02           2  \n",
      "2      Lic. en derecho         6  2015-05-09           3  \n",
      "3     Ing. en sistemas         2  2016-12-03           4  \n",
      "4     Ing. mecatrónica        10  2018-12-01           5  \n"
     ]
    }
   ],
   "source": [
    "print(estudiantes.head())"
   ]
  },
  {
   "cell_type": "markdown",
   "id": "1159dfcb-d59b-48f4-89b6-a1b5778595a0",
   "metadata": {},
   "source": [
    "**Ejercicio 15:**\n"
   ]
  },
  {
   "cell_type": "markdown",
   "id": "55d97f65-d5b4-4a8d-90c9-d6ef6759c209",
   "metadata": {},
   "source": [
    "Cambiar todas las letras a mayúscula en la columna \"Num Control\" del Dataframe \"estudiantes\". Verifica que los cambios han sido aplicados en el DataFrame\n"
   ]
  },
  {
   "cell_type": "code",
   "execution_count": 37,
   "id": "545685a7-641e-412c-a0e4-568654ce2220",
   "metadata": {},
   "outputs": [
    {
     "name": "stdout",
     "output_type": "stream",
     "text": [
      "0    SENETE01\n",
      "1    JEVIPI02\n",
      "2    MAFENÚ03\n",
      "3    WIVALÓ04\n",
      "4    BARIDE05\n",
      "Name: Num Control, dtype: object\n"
     ]
    }
   ],
   "source": [
    "estudiantes[\"Num Control\"] = estudiantes[\"Num Control\"].str.upper()\n",
    "print(estudiantes[\"Num Control\"].head())"
   ]
  },
  {
   "cell_type": "markdown",
   "id": "3324d3f5-a77a-42c0-ba7e-25313e43bb58",
   "metadata": {},
   "source": [
    "**Ejercicio 16:**\n"
   ]
  },
  {
   "cell_type": "markdown",
   "id": "d907b4dc-301e-4b21-bde5-4dd96fdcd076",
   "metadata": {},
   "source": [
    "Cambiar la primera letra de cada palabra a mayúscula en la columna \"Carrera\" del DataFrame \"estudiantes\". Verificar que se han cambiado los datos\n"
   ]
  },
  {
   "cell_type": "code",
   "execution_count": 38,
   "id": "7ec02ffd-eef3-4e3e-b2e9-59450b94d3bd",
   "metadata": {},
   "outputs": [
    {
     "name": "stdout",
     "output_type": "stream",
     "text": [
      "0    Lic. En Nutriología\n",
      "1           Ing. Química\n",
      "2        Lic. En Derecho\n",
      "3       Ing. En Sistemas\n",
      "4       Ing. Mecatrónica\n",
      "Name: Carrera, dtype: object\n"
     ]
    }
   ],
   "source": [
    "estudiantes[\"Carrera\"] = estudiantes[\"Carrera\"].str.title()\n",
    "print(estudiantes[\"Carrera\"].head())"
   ]
  },
  {
   "cell_type": "markdown",
   "id": "385775b3-86a0-4715-908b-dfa75dca95f2",
   "metadata": {},
   "source": [
    "**Ejercicio 17:**\n"
   ]
  },
  {
   "cell_type": "markdown",
   "id": "fcba16b5",
   "metadata": {},
   "source": [
    "Agrega una columna llamada \"Año\" que contenga el año en que el estudiante se inscribió a la carrera del DataFrame \"estudiantes\"\n"
   ]
  },
  {
   "cell_type": "code",
   "execution_count": 39,
   "id": "48bd6a57",
   "metadata": {},
   "outputs": [
    {
     "name": "stdout",
     "output_type": "stream",
     "text": [
      "   Id   Nombre Apellido Pat  Apellido Mat  Edad  Altura  Peso Num Control  \\\n",
      "0   1   Sergio      Negrete         Terán    18     163  90.9    SENETE01   \n",
      "1   2     Jean       Vidrio        Piñeda    23     166  61.3    JEVIPI02   \n",
      "2   3    María        Feria         Núñez    22     185  77.1    MAFENÚ03   \n",
      "3   4  William   Valdovinos         López    22     155  84.6    WIVALÓ04   \n",
      "4   5  Bastian   Richardson  De La Fuente    17     187  87.0    BARIDE05   \n",
      "\n",
      "               Carrera  Semestre Inscripción  Id Persona   Año  \n",
      "0  Lic. En Nutriología         7  2015-05-20           1  2023  \n",
      "1         Ing. Química         8  2015-05-02           2  2023  \n",
      "2      Lic. En Derecho         6  2015-05-09           3  2023  \n",
      "3     Ing. En Sistemas         2  2016-12-03           4  2023  \n",
      "4     Ing. Mecatrónica        10  2018-12-01           5  2023  \n"
     ]
    }
   ],
   "source": [
    "estudiantes[\"Año\"] = 2023\n",
    "print(estudiantes.head())"
   ]
  },
  {
   "cell_type": "markdown",
   "id": "b8a7f523-541e-4ffc-9090-f6a18f852ef2",
   "metadata": {},
   "source": [
    "**Ejercicio 18:**\n"
   ]
  },
  {
   "cell_type": "markdown",
   "id": "88696800-dfdf-4b5f-bf3b-8412b1a84e19",
   "metadata": {},
   "source": [
    "Agregar una columna llamada \"Año\" que contenga el año y mes en que el estudiante se inscribió a la carrera del DataFrame \"estudiantes\"\n"
   ]
  },
  {
   "cell_type": "code",
   "execution_count": 47,
   "id": "fdc54d32-3db7-4e6c-a9ef-b87680bcc1fd",
   "metadata": {},
   "outputs": [
    {
     "name": "stdout",
     "output_type": "stream",
     "text": [
      "100\n",
      "0    2023-04\n",
      "1    2024-07\n",
      "2    2019-01\n",
      "3    2023-07\n",
      "4    2023-02\n",
      "Name: Año, dtype: object\n"
     ]
    }
   ],
   "source": [
    "import numpy as np\n",
    "print(len(estudiantes))\n",
    "años = np.random.randint(2019, 2025, size=100)\n",
    "\n",
    "# Meses entre 1 y 12 para 100 estudiantes\n",
    "meses = np.random.randint(1, 13, size=100)\n",
    "\n",
    "# Crear la columna Año con formato \"AAAA-MM\"\n",
    "estudiantes[\"Año\"] = [f\"{a}-{m:02d}\" for a, m in zip(años, meses)]\n",
    "\n",
    "print(estudiantes[\"Año\"].head())\n"
   ]
  },
  {
   "cell_type": "markdown",
   "id": "e1fa802b-7974-471d-a02a-7e17a6ab7ae4",
   "metadata": {},
   "source": [
    "**Ejercicio 19:**\n"
   ]
  },
  {
   "cell_type": "markdown",
   "id": "28e17497-4e11-4fad-9cf5-727078caf77e",
   "metadata": {},
   "source": [
    "Crea un DataFrame llamado \"licenciados\" que contenga los datos de los estudiantes inscritos a una licenciatura\n"
   ]
  },
  {
   "cell_type": "code",
   "execution_count": 48,
   "id": "65137100-5cbc-4047-b8c7-bc9d20e0e3ca",
   "metadata": {},
   "outputs": [
    {
     "name": "stdout",
     "output_type": "stream",
     "text": [
      "Empty DataFrame\n",
      "Columns: [Id, Nombre, Apellido Pat, Apellido Mat, Edad, Altura, Peso, Num Control, Carrera, Semestre, Inscripción, Id Persona, Año]\n",
      "Index: []\n"
     ]
    }
   ],
   "source": [
    "licenciados = estudiantes[estudiantes[\"Carrera\"].str.contains(\"Licenciatura\", case=False, na=False)]\n",
    "\n",
    "print(licenciados.head())"
   ]
  },
  {
   "cell_type": "markdown",
   "id": "a6008ae4-8a10-4ff4-92f1-1f82b82c8b5a",
   "metadata": {},
   "source": [
    "**Ejercicio 20:**\n"
   ]
  },
  {
   "cell_type": "markdown",
   "id": "ad017f47-c974-4168-9c79-bd407cec5ef8",
   "metadata": {},
   "source": [
    "Contar la cantidad de licenciados inscritos por cada año utilizando groupby\n"
   ]
  },
  {
   "cell_type": "code",
   "execution_count": 49,
   "id": "c8b9b36b-7bfb-4027-91ea-626227546983",
   "metadata": {},
   "outputs": [
    {
     "name": "stdout",
     "output_type": "stream",
     "text": [
      "Series([], dtype: int64)\n"
     ]
    }
   ],
   "source": [
    "licenciados[\"Año_Only\"] = licenciados[\"Año\"].str[:4]\n",
    "\n",
    "# Agrupar por año y contar\n",
    "conteo_por_ano = licenciados.groupby(\"Año_Only\").size()\n",
    "\n",
    "print(conteo_por_ano)"
   ]
  },
  {
   "cell_type": "markdown",
   "id": "f4a1fbc0",
   "metadata": {},
   "source": [
    "Dibuja un **gráfico de barras** con estas estadísticas con el **título** \"Incripción de Licenciados por Año\"\n"
   ]
  },
  {
   "cell_type": "code",
   "execution_count": null,
   "id": "e90ab432",
   "metadata": {},
   "outputs": [],
   "source": [
    "\n"
   ]
  },
  {
   "cell_type": "markdown",
   "id": "a7eafbf0-968b-41cb-b966-c67bb42bf049",
   "metadata": {},
   "source": [
    "**Ejercicio 21:**\n"
   ]
  },
  {
   "cell_type": "markdown",
   "id": "f07668c4-1d9a-46e9-8e6d-a80aaeb3961c",
   "metadata": {},
   "source": [
    "Contar la cantidad de alumnos inscritos en cada año separado por licenciatura utilizando pivot_table\n"
   ]
  },
  {
   "cell_type": "code",
   "execution_count": 56,
   "id": "62f98dce-8e1e-4749-86b4-e1bed5f44081",
   "metadata": {},
   "outputs": [
    {
     "name": "stdout",
     "output_type": "stream",
     "text": [
      "Empty DataFrame\n",
      "Columns: []\n",
      "Index: []\n"
     ]
    }
   ],
   "source": [
    "tabla_pivot = licenciados.pivot_table(index='Año', columns='Carrera', aggfunc='size', fill_value=0)\n",
    "print(tabla_pivot)"
   ]
  },
  {
   "cell_type": "markdown",
   "id": "f2b03bdc",
   "metadata": {},
   "source": [
    "Dibuja la gráfica con estos números\n"
   ]
  },
  {
   "cell_type": "code",
   "execution_count": null,
   "id": "a600baad",
   "metadata": {},
   "outputs": [],
   "source": []
  }
 ],
 "metadata": {
  "kernelspec": {
   "display_name": "Python 3",
   "language": "python",
   "name": "python3"
  },
  "language_info": {
   "codemirror_mode": {
    "name": "ipython",
    "version": 3
   },
   "file_extension": ".py",
   "mimetype": "text/x-python",
   "name": "python",
   "nbconvert_exporter": "python",
   "pygments_lexer": "ipython3",
   "version": "3.13.5"
  }
 },
 "nbformat": 4,
 "nbformat_minor": 5
}
