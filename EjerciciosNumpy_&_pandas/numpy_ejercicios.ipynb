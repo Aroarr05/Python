{
 "cells": [
  {
   "cell_type": "markdown",
   "id": "c7327e82-fd82-4234-a5ec-2c94292c198f",
   "metadata": {},
   "source": [
    "# Numpy\n"
   ]
  },
  {
   "cell_type": "markdown",
   "id": "1acdb381",
   "metadata": {},
   "source": [
    "**Ejercicio 1:**\n"
   ]
  },
  {
   "cell_type": "markdown",
   "id": "d0c1cfcc-7730-4612-9a49-23f3790b543f",
   "metadata": {},
   "source": [
    "Importar numpy\n"
   ]
  },
  {
   "cell_type": "code",
   "execution_count": 5,
   "id": "fdc297ee-bc0d-42b8-a1cb-c01e45fae36d",
   "metadata": {},
   "outputs": [
    {
     "name": "stdout",
     "output_type": "stream",
     "text": [
      "Defaulting to user installation because normal site-packages is not writeable\n",
      "Requirement already satisfied: numpy in c:\\users\\aroar\\appdata\\roaming\\python\\python313\\site-packages (2.3.1)\n"
     ]
    }
   ],
   "source": [
    "!pip install numpy\n",
    "\n",
    "import numpy as np"
   ]
  },
  {
   "cell_type": "markdown",
   "id": "67e6f365",
   "metadata": {},
   "source": [
    "Importar pyplot de matplotlib\n"
   ]
  },
  {
   "cell_type": "code",
   "execution_count": 6,
   "id": "a70a8238-60ef-4383-b3da-4714c1074c85",
   "metadata": {},
   "outputs": [
    {
     "name": "stdout",
     "output_type": "stream",
     "text": [
      "Defaulting to user installation because normal site-packages is not writeable\n",
      "Collecting matplotlib\n",
      "  Downloading matplotlib-3.10.3-cp313-cp313-win_amd64.whl.metadata (11 kB)\n",
      "Collecting contourpy>=1.0.1 (from matplotlib)\n",
      "  Downloading contourpy-1.3.2-cp313-cp313-win_amd64.whl.metadata (5.5 kB)\n",
      "Collecting cycler>=0.10 (from matplotlib)\n",
      "  Downloading cycler-0.12.1-py3-none-any.whl.metadata (3.8 kB)\n",
      "Collecting fonttools>=4.22.0 (from matplotlib)\n",
      "  Downloading fonttools-4.58.4-cp313-cp313-win_amd64.whl.metadata (108 kB)\n",
      "Collecting kiwisolver>=1.3.1 (from matplotlib)\n",
      "  Downloading kiwisolver-1.4.8-cp313-cp313-win_amd64.whl.metadata (6.3 kB)\n",
      "Requirement already satisfied: numpy>=1.23 in c:\\users\\aroar\\appdata\\roaming\\python\\python313\\site-packages (from matplotlib) (2.3.1)\n",
      "Requirement already satisfied: packaging>=20.0 in c:\\users\\aroar\\appdata\\roaming\\python\\python313\\site-packages (from matplotlib) (25.0)\n",
      "Collecting pillow>=8 (from matplotlib)\n",
      "  Downloading pillow-11.3.0-cp313-cp313-win_amd64.whl.metadata (9.2 kB)\n",
      "Collecting pyparsing>=2.3.1 (from matplotlib)\n",
      "  Downloading pyparsing-3.2.3-py3-none-any.whl.metadata (5.0 kB)\n",
      "Requirement already satisfied: python-dateutil>=2.7 in c:\\users\\aroar\\appdata\\roaming\\python\\python313\\site-packages (from matplotlib) (2.9.0.post0)\n",
      "Requirement already satisfied: six>=1.5 in c:\\users\\aroar\\appdata\\roaming\\python\\python313\\site-packages (from python-dateutil>=2.7->matplotlib) (1.17.0)\n",
      "Downloading matplotlib-3.10.3-cp313-cp313-win_amd64.whl (8.1 MB)\n",
      "   ---------------------------------------- 0.0/8.1 MB ? eta -:--:--\n",
      "   ---------------------- ----------------- 4.5/8.1 MB 25.3 MB/s eta 0:00:01\n",
      "   ------------------------------------- -- 7.6/8.1 MB 30.1 MB/s eta 0:00:01\n",
      "   ------------------------------------- -- 7.6/8.1 MB 30.1 MB/s eta 0:00:01\n",
      "   -------------------------------------- - 7.9/8.1 MB 11.9 MB/s eta 0:00:01\n",
      "   ---------------------------------------- 8.1/8.1 MB 9.3 MB/s eta 0:00:00\n",
      "Downloading contourpy-1.3.2-cp313-cp313-win_amd64.whl (223 kB)\n",
      "Downloading cycler-0.12.1-py3-none-any.whl (8.3 kB)\n",
      "Downloading fonttools-4.58.4-cp313-cp313-win_amd64.whl (2.2 MB)\n",
      "   ---------------------------------------- 0.0/2.2 MB ? eta -:--:--\n",
      "   ---------------------------------------- 2.2/2.2 MB 34.4 MB/s eta 0:00:00\n",
      "Downloading kiwisolver-1.4.8-cp313-cp313-win_amd64.whl (71 kB)\n",
      "Downloading pillow-11.3.0-cp313-cp313-win_amd64.whl (7.0 MB)\n",
      "   ---------------------------------------- 0.0/7.0 MB ? eta -:--:--\n",
      "   ---------------------------------------  6.8/7.0 MB 37.4 MB/s eta 0:00:01\n",
      "   ---------------------------------------- 7.0/7.0 MB 34.6 MB/s eta 0:00:00\n",
      "Downloading pyparsing-3.2.3-py3-none-any.whl (111 kB)\n",
      "Installing collected packages: pyparsing, pillow, kiwisolver, fonttools, cycler, contourpy, matplotlib\n",
      "\n",
      "   ---------------------------------------- 0/7 [pyparsing]\n",
      "   ----- ---------------------------------- 1/7 [pillow]\n",
      "   ----- ---------------------------------- 1/7 [pillow]\n",
      "   ----- ---------------------------------- 1/7 [pillow]\n",
      "   ----- ---------------------------------- 1/7 [pillow]\n",
      "   ----- ---------------------------------- 1/7 [pillow]\n",
      "   ----- ---------------------------------- 1/7 [pillow]\n",
      "   ----- ---------------------------------- 1/7 [pillow]\n",
      "   ----- ---------------------------------- 1/7 [pillow]\n",
      "   ----- ---------------------------------- 1/7 [pillow]\n",
      "   ----------- ---------------------------- 2/7 [kiwisolver]\n",
      "   ----------------- ---------------------- 3/7 [fonttools]\n",
      "   ----------------- ---------------------- 3/7 [fonttools]\n",
      "   ----------------- ---------------------- 3/7 [fonttools]\n",
      "   ----------------- ---------------------- 3/7 [fonttools]\n",
      "   ----------------- ---------------------- 3/7 [fonttools]\n",
      "   ----------------- ---------------------- 3/7 [fonttools]\n",
      "   ----------------- ---------------------- 3/7 [fonttools]\n",
      "   ----------------- ---------------------- 3/7 [fonttools]\n",
      "   ----------------- ---------------------- 3/7 [fonttools]\n",
      "   ----------------- ---------------------- 3/7 [fonttools]\n",
      "   ----------------- ---------------------- 3/7 [fonttools]\n",
      "   ----------------- ---------------------- 3/7 [fonttools]\n",
      "   ----------------- ---------------------- 3/7 [fonttools]\n",
      "   ----------------- ---------------------- 3/7 [fonttools]\n",
      "   ----------------- ---------------------- 3/7 [fonttools]\n",
      "   ----------------- ---------------------- 3/7 [fonttools]\n",
      "   ----------------- ---------------------- 3/7 [fonttools]\n",
      "   ----------------- ---------------------- 3/7 [fonttools]\n",
      "   ----------------- ---------------------- 3/7 [fonttools]\n",
      "   ----------------- ---------------------- 3/7 [fonttools]\n",
      "   ----------------- ---------------------- 3/7 [fonttools]\n",
      "   ----------------- ---------------------- 3/7 [fonttools]\n",
      "   ----------------- ---------------------- 3/7 [fonttools]\n",
      "   ----------------- ---------------------- 3/7 [fonttools]\n",
      "   ----------------- ---------------------- 3/7 [fonttools]\n",
      "   ----------------- ---------------------- 3/7 [fonttools]\n",
      "   ----------------- ---------------------- 3/7 [fonttools]\n",
      "   ----------------- ---------------------- 3/7 [fonttools]\n",
      "   ----------------- ---------------------- 3/7 [fonttools]\n",
      "   ---------------------- ----------------- 4/7 [cycler]\n",
      "   ---------------------------- ----------- 5/7 [contourpy]\n",
      "   ---------------------------------- ----- 6/7 [matplotlib]\n",
      "   ---------------------------------- ----- 6/7 [matplotlib]\n",
      "   ---------------------------------- ----- 6/7 [matplotlib]\n",
      "   ---------------------------------- ----- 6/7 [matplotlib]\n",
      "   ---------------------------------- ----- 6/7 [matplotlib]\n",
      "   ---------------------------------- ----- 6/7 [matplotlib]\n",
      "   ---------------------------------- ----- 6/7 [matplotlib]\n",
      "   ---------------------------------- ----- 6/7 [matplotlib]\n",
      "   ---------------------------------- ----- 6/7 [matplotlib]\n",
      "   ---------------------------------- ----- 6/7 [matplotlib]\n",
      "   ---------------------------------- ----- 6/7 [matplotlib]\n",
      "   ---------------------------------- ----- 6/7 [matplotlib]\n",
      "   ---------------------------------- ----- 6/7 [matplotlib]\n",
      "   ---------------------------------- ----- 6/7 [matplotlib]\n",
      "   ---------------------------------- ----- 6/7 [matplotlib]\n",
      "   ---------------------------------- ----- 6/7 [matplotlib]\n",
      "   ---------------------------------- ----- 6/7 [matplotlib]\n",
      "   ---------------------------------- ----- 6/7 [matplotlib]\n",
      "   ---------------------------------- ----- 6/7 [matplotlib]\n",
      "   ---------------------------------- ----- 6/7 [matplotlib]\n",
      "   ---------------------------------- ----- 6/7 [matplotlib]\n",
      "   ---------------------------------- ----- 6/7 [matplotlib]\n",
      "   ---------------------------------- ----- 6/7 [matplotlib]\n",
      "   ---------------------------------- ----- 6/7 [matplotlib]\n",
      "   ---------------------------------- ----- 6/7 [matplotlib]\n",
      "   ---------------------------------- ----- 6/7 [matplotlib]\n",
      "   ---------------------------------- ----- 6/7 [matplotlib]\n",
      "   ---------------------------------- ----- 6/7 [matplotlib]\n",
      "   ---------------------------------- ----- 6/7 [matplotlib]\n",
      "   ---------------------------------- ----- 6/7 [matplotlib]\n",
      "   ---------------------------------- ----- 6/7 [matplotlib]\n",
      "   ---------------------------------- ----- 6/7 [matplotlib]\n",
      "   ---------------------------------------- 7/7 [matplotlib]\n",
      "\n",
      "Successfully installed contourpy-1.3.2 cycler-0.12.1 fonttools-4.58.4 kiwisolver-1.4.8 matplotlib-3.10.3 pillow-11.3.0 pyparsing-3.2.3\n"
     ]
    }
   ],
   "source": [
    "!pip install matplotlib\n",
    "\n",
    "import matplotlib.pyplot as plt"
   ]
  },
  {
   "cell_type": "markdown",
   "id": "6abe2412-1096-42ef-ac26-97d52d483563",
   "metadata": {},
   "source": [
    "**Ejercicio 2:**\n"
   ]
  },
  {
   "cell_type": "code",
   "execution_count": 1,
   "id": "d06d31a3-2aba-4262-ba57-bb8b5989bb0f",
   "metadata": {},
   "outputs": [],
   "source": [
    "lista= [31,28,29,19]"
   ]
  },
  {
   "cell_type": "markdown",
   "id": "a280bead-9a9a-4605-8954-e47d37cac2a6",
   "metadata": {},
   "source": [
    "Crear una ndarray utilizando la lista anterior\n"
   ]
  },
  {
   "cell_type": "code",
   "execution_count": null,
   "id": "2fc49c07-0660-44da-8fd0-c5f71fbf67d7",
   "metadata": {},
   "outputs": [
    {
     "name": "stdout",
     "output_type": "stream",
     "text": [
      "[31 28 29 19]\n"
     ]
    }
   ],
   "source": [
    "array = np.array(lista)\n",
    "\n",
    "print(array)"
   ]
  },
  {
   "cell_type": "markdown",
   "id": "a7f7692d-63e3-4688-bbda-9c5dc9340e0f",
   "metadata": {},
   "source": [
    "**Ejercicio 3:**\n"
   ]
  },
  {
   "cell_type": "code",
   "execution_count": 11,
   "id": "4d0aa5ca-e154-4f9b-9b25-7c7f2695e06b",
   "metadata": {},
   "outputs": [],
   "source": [
    "lista_2d=[[2,3,4],\n",
    "          [3,4,5],\n",
    "          [3,4,5],\n",
    "          [3,4,5]]"
   ]
  },
  {
   "cell_type": "markdown",
   "id": "d7c21cc3-407d-44ef-82a9-82733f2bffee",
   "metadata": {},
   "source": [
    "Crear una ndarray utilizando la lista bidimensional anterior\n"
   ]
  },
  {
   "cell_type": "code",
   "execution_count": 12,
   "id": "3aa7c127-4943-45f2-a5a3-3e9ef4cc7589",
   "metadata": {},
   "outputs": [
    {
     "name": "stdout",
     "output_type": "stream",
     "text": [
      "[[2 3 4]\n",
      " [3 4 5]\n",
      " [3 4 5]\n",
      " [3 4 5]]\n"
     ]
    }
   ],
   "source": [
    "array_2d = np.array(lista_2d)\n",
    "print(array_2d)"
   ]
  },
  {
   "cell_type": "markdown",
   "id": "ef3847b6-eda7-4fd1-b115-3c240a2413a7",
   "metadata": {},
   "source": [
    "**Ejercicio 4:**\n"
   ]
  },
  {
   "cell_type": "markdown",
   "id": "7ebe38ea-eef2-49d6-b15e-a9ecb2a52b2c",
   "metadata": {},
   "source": [
    "Utilizar la propiedad shape para obtener la forma del ndarray anterior\n"
   ]
  },
  {
   "cell_type": "code",
   "execution_count": 15,
   "id": "15be0acf-6149-4104-a361-ac862e9e6620",
   "metadata": {},
   "outputs": [
    {
     "name": "stdout",
     "output_type": "stream",
     "text": [
      "foma de ndarray: (4, 3)\n"
     ]
    }
   ],
   "source": [
    "forma = array_2d.shape\n",
    "print(\"foma de ndarray:\", forma)"
   ]
  },
  {
   "cell_type": "markdown",
   "id": "4824638b-96e5-4754-be79-8c823f834420",
   "metadata": {},
   "source": [
    "Utilizar la propiedad ndim para obtener las dimensiones del ndarray anterior\n"
   ]
  },
  {
   "cell_type": "code",
   "execution_count": 16,
   "id": "6c2fad0b-cb86-439e-b4a7-7fd3edbba2c7",
   "metadata": {},
   "outputs": [
    {
     "name": "stdout",
     "output_type": "stream",
     "text": [
      "2\n"
     ]
    }
   ],
   "source": [
    "dimensiones = array_2d.ndim\n",
    "print(dimensiones)"
   ]
  },
  {
   "cell_type": "markdown",
   "id": "1e434bf5-ec3f-4c86-8e41-09fe3eb736a0",
   "metadata": {},
   "source": [
    "Utilizar la propiedad dtype para obtener el tipo de los datos en el ndarray anterior\n"
   ]
  },
  {
   "cell_type": "code",
   "execution_count": 17,
   "id": "69e66663-e400-4795-9f81-84978b1cad1f",
   "metadata": {},
   "outputs": [
    {
     "name": "stdout",
     "output_type": "stream",
     "text": [
      "int64\n"
     ]
    }
   ],
   "source": [
    "tipo_datos = array_2d.dtype\n",
    "print(tipo_datos)"
   ]
  },
  {
   "cell_type": "markdown",
   "id": "184283c0-3789-48fc-bac0-d7cdf275bec4",
   "metadata": {},
   "source": [
    "Utilizar la propiedad size para obtener la cantidad total de datos en el ndarray anterior\n"
   ]
  },
  {
   "cell_type": "code",
   "execution_count": 18,
   "id": "a22fd4c0-43b7-4bee-b34e-99d0599aee2d",
   "metadata": {},
   "outputs": [
    {
     "name": "stdout",
     "output_type": "stream",
     "text": [
      "12\n"
     ]
    }
   ],
   "source": [
    "total_elementos = array_2d.size\n",
    "print(total_elementos)"
   ]
  },
  {
   "cell_type": "markdown",
   "id": "5dd95a43-7d3d-426a-9bd1-48e1bd3b2da9",
   "metadata": {},
   "source": [
    "**Ejercicio 5:**\n"
   ]
  },
  {
   "cell_type": "markdown",
   "id": "761e91bc-f278-4380-ba5b-d05f9cbdec6f",
   "metadata": {},
   "source": [
    "Crear un ndarray utilizando la lista \"lista_2d\", el tipo de los datos debe ser \"int16\"\n"
   ]
  },
  {
   "cell_type": "code",
   "execution_count": 20,
   "id": "94b41715-3d42-427e-a3fd-240487b0ea90",
   "metadata": {},
   "outputs": [
    {
     "name": "stdout",
     "output_type": "stream",
     "text": [
      "[[2 3 4]\n",
      " [3 4 5]\n",
      " [3 4 5]\n",
      " [3 4 5]]\n",
      "int16\n"
     ]
    }
   ],
   "source": [
    "array_2d_int16 =np.array(lista_2d,dtype=np.int16)\n",
    "print(array_2d_int16)\n",
    "print(array_2d_int16.dtype)"
   ]
  },
  {
   "cell_type": "markdown",
   "id": "67a2d007-ddec-41df-8bb2-df4a51420fae",
   "metadata": {},
   "source": [
    "**Ejercicio 6:**\n"
   ]
  },
  {
   "cell_type": "markdown",
   "id": "95aebac0-6ef3-45de-a8a8-be4d7cb71d7c",
   "metadata": {},
   "source": [
    "Utilizar la función np.zeros para crear un ndarray con la forma 3x2. Las matrices vacías se suelen crear para iniciar los valores cuando estamos entrenando una red neuronal\n"
   ]
  },
  {
   "cell_type": "code",
   "execution_count": 21,
   "id": "d2997bc4-ae45-4b4a-aa36-7329dc32b33e",
   "metadata": {},
   "outputs": [
    {
     "name": "stdout",
     "output_type": "stream",
     "text": [
      "[[0. 0.]\n",
      " [0. 0.]\n",
      " [0. 0.]]\n"
     ]
    }
   ],
   "source": [
    "array_ceros = np.zeros((3,2))\n",
    "print(array_ceros)"
   ]
  },
  {
   "cell_type": "markdown",
   "id": "61a92a21-f2ee-4b7d-bea8-24f7bec015c3",
   "metadata": {},
   "source": [
    "Utilizar la función np.ones para crear un ndarray con la forma 3x3\n"
   ]
  },
  {
   "cell_type": "code",
   "execution_count": 22,
   "id": "87db7972-fda2-4858-a456-6670825c6479",
   "metadata": {},
   "outputs": [
    {
     "name": "stdout",
     "output_type": "stream",
     "text": [
      "[[1. 1. 1.]\n",
      " [1. 1. 1.]\n",
      " [1. 1. 1.]]\n"
     ]
    }
   ],
   "source": [
    "array_unos = np.ones((3,3))\n",
    "print(array_unos)"
   ]
  },
  {
   "cell_type": "markdown",
   "id": "b3956de0-7f1c-4424-9a95-f5c38f4ff01f",
   "metadata": {},
   "source": [
    "Utilizar la función np.empty para crear un ndarray con la forma 2x4\n"
   ]
  },
  {
   "cell_type": "code",
   "execution_count": 23,
   "id": "ea688cdb-6eca-43ed-9415-a11289356396",
   "metadata": {},
   "outputs": [
    {
     "name": "stdout",
     "output_type": "stream",
     "text": [
      "[[0. 0. 0. 0.]\n",
      " [0. 0. 0. 0.]]\n"
     ]
    }
   ],
   "source": [
    "array_vacio = np.empty((2,4))\n",
    "print(array_vacio)"
   ]
  },
  {
   "cell_type": "markdown",
   "id": "d97f5126-5e89-4e84-bff8-8ab2922ebccb",
   "metadata": {},
   "source": [
    "**Ejercicio 7:**\n"
   ]
  },
  {
   "cell_type": "markdown",
   "id": "9b4f9ead-3891-4b57-b174-b601dc0683bf",
   "metadata": {},
   "source": [
    "Crear un ndarray de 1 dimensión con los valores del 0 al 9 (Ej. [1,2,3,...])\n"
   ]
  },
  {
   "cell_type": "code",
   "execution_count": 24,
   "id": "8cdb9077-e8b1-4c35-ad3a-4ec715e79112",
   "metadata": {},
   "outputs": [
    {
     "name": "stdout",
     "output_type": "stream",
     "text": [
      "[0 1 2 3 4 5 6 7 8 9]\n"
     ]
    }
   ],
   "source": [
    "array_1d = np.arange(10)\n",
    "print(array_1d)"
   ]
  },
  {
   "cell_type": "markdown",
   "id": "57be4fb9-0969-4a92-a278-387d7595c3fc",
   "metadata": {},
   "source": [
    "Crear un ndarray de 2 dimensión con la forma 2x5,los valores deben ser del 0 al 9 (Ej. [[0,1,2,3,4],[5,6,..]]). Quizás tengas que usar `reshape`, que es importante cuando trabajemos con TensorFlow al usarse mucho para el tema de los ciclos/vueltas de entrenamiento\n"
   ]
  },
  {
   "cell_type": "code",
   "execution_count": 25,
   "id": "79a345a8-b779-415d-b22e-e87d75b1672f",
   "metadata": {},
   "outputs": [
    {
     "name": "stdout",
     "output_type": "stream",
     "text": [
      "[[0 1 2 3 4]\n",
      " [5 6 7 8 9]]\n"
     ]
    }
   ],
   "source": [
    "array_2d = array_1d.reshape((2,5))\n",
    "print(array_2d)"
   ]
  },
  {
   "cell_type": "markdown",
   "id": "31da554b-5b01-4c72-a240-31daba880c19",
   "metadata": {},
   "source": [
    "**Ejercicio 8:**\n"
   ]
  },
  {
   "cell_type": "markdown",
   "id": "2f5a7f25-48d2-4171-9b5f-3dd956e57e50",
   "metadata": {},
   "source": [
    "Utilizar np.arange para crear un ndarray con los valores del 10 al 20, deben ir de 2 en 2 (Ej. [10,12,..])\n"
   ]
  },
  {
   "cell_type": "code",
   "execution_count": 26,
   "id": "c05f65d7-55df-4bb3-862e-7eab91a3d3d9",
   "metadata": {},
   "outputs": [
    {
     "name": "stdout",
     "output_type": "stream",
     "text": [
      "[10 12 14 16 18 20]\n"
     ]
    }
   ],
   "source": [
    "array_salto_2 = np.arange(10,21,2)\n",
    "print(array_salto_2)"
   ]
  },
  {
   "cell_type": "markdown",
   "id": "a42828a6-38db-46fd-8fa8-301a8838c627",
   "metadata": {},
   "source": [
    "**Ejercicio 9:**\n"
   ]
  },
  {
   "cell_type": "markdown",
   "id": "fd702fb3-3cd9-45d6-8032-57bbec0a51b1",
   "metadata": {},
   "source": [
    "Utilizar np.linspace para crear un ndarray con los valores enteros entre el 10 al 20. Este método será importante a la hora de trabajar con TensorFlow y scikit learn para regresiones lineales\n"
   ]
  },
  {
   "cell_type": "code",
   "execution_count": 27,
   "id": "85cc30af-250f-4ab8-a7cf-eed247a0dea9",
   "metadata": {},
   "outputs": [
    {
     "name": "stdout",
     "output_type": "stream",
     "text": [
      "[10 11 12 13 14 15 16 17 18 19 20]\n"
     ]
    }
   ],
   "source": [
    "array_float = np.linspace(10,20,11)\n",
    "array_enteros = array_float.astype(int)\n",
    "print(array_enteros)"
   ]
  },
  {
   "cell_type": "markdown",
   "id": "d04b6ccf-5d9b-4769-a3a2-d65d93e644d4",
   "metadata": {},
   "source": [
    "**Ejercicio 10:**\n"
   ]
  },
  {
   "cell_type": "markdown",
   "id": "a5624bd4-06c2-4959-8e10-d1b8e0227705",
   "metadata": {},
   "source": [
    "Utilizar np.linspace para crear un ndarray con 100 números entre el 0 y 2 $\\pi$\n"
   ]
  },
  {
   "cell_type": "code",
   "execution_count": 28,
   "id": "aa9439dc-b364-465c-b260-ca47fd9fcec4",
   "metadata": {},
   "outputs": [
    {
     "name": "stdout",
     "output_type": "stream",
     "text": [
      "[0.         0.06346652 0.12693304 0.19039955 0.25386607 0.31733259\n",
      " 0.38079911 0.44426563 0.50773215 0.57119866 0.63466518 0.6981317\n",
      " 0.76159822 0.82506474 0.88853126 0.95199777 1.01546429 1.07893081\n",
      " 1.14239733 1.20586385 1.26933037 1.33279688 1.3962634  1.45972992\n",
      " 1.52319644 1.58666296 1.65012947 1.71359599 1.77706251 1.84052903\n",
      " 1.90399555 1.96746207 2.03092858 2.0943951  2.15786162 2.22132814\n",
      " 2.28479466 2.34826118 2.41172769 2.47519421 2.53866073 2.60212725\n",
      " 2.66559377 2.72906028 2.7925268  2.85599332 2.91945984 2.98292636\n",
      " 3.04639288 3.10985939 3.17332591 3.23679243 3.30025895 3.36372547\n",
      " 3.42719199 3.4906585  3.55412502 3.61759154 3.68105806 3.74452458\n",
      " 3.8079911  3.87145761 3.93492413 3.99839065 4.06185717 4.12532369\n",
      " 4.1887902  4.25225672 4.31572324 4.37918976 4.44265628 4.5061228\n",
      " 4.56958931 4.63305583 4.69652235 4.75998887 4.82345539 4.88692191\n",
      " 4.95038842 5.01385494 5.07732146 5.14078798 5.2042545  5.26772102\n",
      " 5.33118753 5.39465405 5.45812057 5.52158709 5.58505361 5.64852012\n",
      " 5.71198664 5.77545316 5.83891968 5.9023862  5.96585272 6.02931923\n",
      " 6.09278575 6.15625227 6.21971879 6.28318531]\n"
     ]
    }
   ],
   "source": [
    "array_100 = np.linspace(0,2*np.pi,100)\n",
    "print(array_100)"
   ]
  },
  {
   "cell_type": "markdown",
   "id": "22b71ecd-a48f-47a5-8fb3-c53384a557b6",
   "metadata": {},
   "source": [
    "Utilizar np.sin y np.cos para obtener los valores de seno y coseno en los puntos del array anterior\n"
   ]
  },
  {
   "cell_type": "code",
   "execution_count": 30,
   "id": "691abc23-2c53-4e71-8feb-899e067166d9",
   "metadata": {},
   "outputs": [
    {
     "name": "stdout",
     "output_type": "stream",
     "text": [
      "[ 0.00000000e+00  6.34239197e-02  1.26592454e-01  1.89251244e-01\n",
      "  2.51147987e-01  3.12033446e-01  3.71662456e-01  4.29794912e-01\n",
      "  4.86196736e-01  5.40640817e-01  5.92907929e-01  6.42787610e-01\n",
      "  6.90079011e-01  7.34591709e-01  7.76146464e-01  8.14575952e-01\n",
      "  8.49725430e-01  8.81453363e-01  9.09631995e-01  9.34147860e-01\n",
      "  9.54902241e-01  9.71811568e-01  9.84807753e-01  9.93838464e-01\n",
      "  9.98867339e-01  9.99874128e-01  9.96854776e-01  9.89821442e-01\n",
      "  9.78802446e-01  9.63842159e-01  9.45000819e-01  9.22354294e-01\n",
      "  8.95993774e-01  8.66025404e-01  8.32569855e-01  7.95761841e-01\n",
      "  7.55749574e-01  7.12694171e-01  6.66769001e-01  6.18158986e-01\n",
      "  5.67059864e-01  5.13677392e-01  4.58226522e-01  4.00930535e-01\n",
      "  3.42020143e-01  2.81732557e-01  2.20310533e-01  1.58001396e-01\n",
      "  9.50560433e-02  3.17279335e-02 -3.17279335e-02 -9.50560433e-02\n",
      " -1.58001396e-01 -2.20310533e-01 -2.81732557e-01 -3.42020143e-01\n",
      " -4.00930535e-01 -4.58226522e-01 -5.13677392e-01 -5.67059864e-01\n",
      " -6.18158986e-01 -6.66769001e-01 -7.12694171e-01 -7.55749574e-01\n",
      " -7.95761841e-01 -8.32569855e-01 -8.66025404e-01 -8.95993774e-01\n",
      " -9.22354294e-01 -9.45000819e-01 -9.63842159e-01 -9.78802446e-01\n",
      " -9.89821442e-01 -9.96854776e-01 -9.99874128e-01 -9.98867339e-01\n",
      " -9.93838464e-01 -9.84807753e-01 -9.71811568e-01 -9.54902241e-01\n",
      " -9.34147860e-01 -9.09631995e-01 -8.81453363e-01 -8.49725430e-01\n",
      " -8.14575952e-01 -7.76146464e-01 -7.34591709e-01 -6.90079011e-01\n",
      " -6.42787610e-01 -5.92907929e-01 -5.40640817e-01 -4.86196736e-01\n",
      " -4.29794912e-01 -3.71662456e-01 -3.12033446e-01 -2.51147987e-01\n",
      " -1.89251244e-01 -1.26592454e-01 -6.34239197e-02 -2.44929360e-16]\n",
      "[ 1.          0.99798668  0.99195481  0.9819287   0.9679487   0.95007112\n",
      "  0.92836793  0.90292654  0.87384938  0.84125353  0.80527026  0.76604444\n",
      "  0.72373404  0.67850941  0.63055267  0.58005691  0.52722547  0.47227107\n",
      "  0.41541501  0.35688622  0.29692038  0.23575894  0.17364818  0.1108382\n",
      "  0.04758192 -0.01586596 -0.07924996 -0.14231484 -0.20480667 -0.26647381\n",
      " -0.32706796 -0.38634513 -0.44406661 -0.5        -0.55392006 -0.60560969\n",
      " -0.65486073 -0.70147489 -0.74526445 -0.78605309 -0.82367658 -0.85798341\n",
      " -0.88883545 -0.91610846 -0.93969262 -0.95949297 -0.97542979 -0.98743889\n",
      " -0.99547192 -0.99949654 -0.99949654 -0.99547192 -0.98743889 -0.97542979\n",
      " -0.95949297 -0.93969262 -0.91610846 -0.88883545 -0.85798341 -0.82367658\n",
      " -0.78605309 -0.74526445 -0.70147489 -0.65486073 -0.60560969 -0.55392006\n",
      " -0.5        -0.44406661 -0.38634513 -0.32706796 -0.26647381 -0.20480667\n",
      " -0.14231484 -0.07924996 -0.01586596  0.04758192  0.1108382   0.17364818\n",
      "  0.23575894  0.29692038  0.35688622  0.41541501  0.47227107  0.52722547\n",
      "  0.58005691  0.63055267  0.67850941  0.72373404  0.76604444  0.80527026\n",
      "  0.84125353  0.87384938  0.90292654  0.92836793  0.95007112  0.9679487\n",
      "  0.9819287   0.99195481  0.99798668  1.        ]\n"
     ]
    }
   ],
   "source": [
    "x= np.linspace(0,2*np.pi,100)\n",
    "\n",
    "seno = np.sin(x)\n",
    "coseno = np.cos(x)\n",
    "\n",
    "print(seno)\n",
    "print(coseno)\n",
    "\n"
   ]
  },
  {
   "cell_type": "markdown",
   "id": "bc933a1f-5f84-4e0e-bfa9-13d682e74779",
   "metadata": {},
   "source": [
    "Utilizar plt.plot para graficar un círculo con los datos de seno y coseno\n"
   ]
  },
  {
   "cell_type": "code",
   "execution_count": 31,
   "id": "67c506aa-ba33-4658-ab11-295539ffdad2",
   "metadata": {},
   "outputs": [
    {
     "data": {
      "image/png": "[encoded data removed]",
      "text/plain": [
       "<Figure size 640x480 with 1 Axes>"
      ]
     },
     "metadata": {},
     "output_type": "display_data"
    }
   ],
   "source": [
    "theta = np.linspace(0,2*np.pi,100)\n",
    "x=np.cos(theta)\n",
    "y=np.sin(theta)\n",
    "\n",
    "plt.plot(x, y)\n",
    "plt.title(\"Círculo unitario usando seno y coseno\")\n",
    "plt.xlabel(\"Coseno (X)\")\n",
    "plt.ylabel(\"Seno (Y)\")\n",
    "plt.axis('equal')  # Para que la escala sea igual en ambos ejes y se vea un círculo perfecto\n",
    "plt.grid(True)\n",
    "plt.show()\n"
   ]
  },
  {
   "cell_type": "markdown",
   "id": "155bbcd6-88d5-4cdc-9a05-c50f26f5187f",
   "metadata": {},
   "source": [
    "**Ejercicio 11:**\n"
   ]
  },
  {
   "cell_type": "markdown",
   "id": "c0b81a7c-aa51-4400-9527-130a5bbcc8d5",
   "metadata": {},
   "source": [
    "Utilizar plt.plot para graficar los valores de seno y coseno por separado\n"
   ]
  },
  {
   "cell_type": "code",
   "execution_count": 32,
   "id": "6e91a06c-c9ec-4600-a220-1c3e75668def",
   "metadata": {},
   "outputs": [
    {
     "data": {
      "image/png": "[encoded data removed]",
      "text/plain": [
       "<Figure size 640x480 with 1 Axes>"
      ]
     },
     "metadata": {},
     "output_type": "display_data"
    }
   ],
   "source": [
    "seno = np.sin(x)\n",
    "coseno = np.cos(x)\n",
    "\n",
    "# Graficar seno\n",
    "plt.plot(x, seno, label='Seno', color='blue')\n",
    "\n",
    "# Graficar coseno\n",
    "plt.plot(x, coseno, label='Coseno', color='red')\n",
    "\n",
    "# Añadir título y etiquetas\n",
    "plt.title(\"Gráficos de seno y coseno\")\n",
    "plt.xlabel(\"Ángulo (radianes)\")\n",
    "plt.ylabel(\"Valor\")\n",
    "\n",
    "# Mostrar leyenda\n",
    "plt.legend()\n",
    "\n",
    "# Mostrar cuadrícula\n",
    "plt.grid(True)\n",
    "\n",
    "# Mostrar gráfico\n",
    "plt.show()"
   ]
  },
  {
   "cell_type": "markdown",
   "id": "8bd317ad-9cae-4dff-a928-726ebda177bf",
   "metadata": {},
   "source": [
    "**Ejercicio 12:**\n"
   ]
  },
  {
   "cell_type": "code",
   "execution_count": 33,
   "id": "e3319954-862f-4bdf-998e-d5f24781a40d",
   "metadata": {},
   "outputs": [
    {
     "name": "stdout",
     "output_type": "stream",
     "text": [
      "[10. 12. 14. 16. 18. 20.] [ 5.  9. 13. 17. 21. 25.]\n"
     ]
    }
   ],
   "source": [
    "a= np.linspace(10,20,6)\n",
    "b= np.linspace(5,25,6)\n",
    "print(a,b)"
   ]
  },
  {
   "cell_type": "markdown",
   "id": "03a56414-a7b0-4dff-a351-11af200156ee",
   "metadata": {},
   "source": [
    "Sumar los valores de los ndarray \"a\" y \"b\"\n"
   ]
  },
  {
   "cell_type": "code",
   "execution_count": 35,
   "id": "98e5e936-d60c-4d71-a750-2f9a2f8d21bf",
   "metadata": {},
   "outputs": [
    {
     "name": "stdout",
     "output_type": "stream",
     "text": [
      "Array a: [10. 12. 14. 16. 18. 20.]\n",
      "Array b: [ 5.  9. 13. 17. 21. 25.]\n",
      "Suma de a y b: [15. 21. 27. 33. 39. 45.]\n"
     ]
    }
   ],
   "source": [
    "a = np.linspace(10, 20, 6)\n",
    "b = np.linspace(5, 25, 6)\n",
    "\n",
    "print(\"Array a:\", a)\n",
    "print(\"Array b:\", b)\n",
    "\n",
    "suma = a + b\n",
    "print(\"Suma de a y b:\", suma)"
   ]
  },
  {
   "cell_type": "markdown",
   "id": "fc20ad08-c098-4593-8b9c-dbcd87937c56",
   "metadata": {},
   "source": [
    "Unir los ndarray \"a\" y \"b\", guardarlo en la variable c\n"
   ]
  },
  {
   "cell_type": "code",
   "execution_count": 36,
   "id": "eac3bddb-1e5e-4357-9bc6-61637c2c6d26",
   "metadata": {},
   "outputs": [
    {
     "name": "stdout",
     "output_type": "stream",
     "text": [
      "Array unido c: [10. 12. 14. 16. 18. 20.  5.  9. 13. 17. 21. 25.]\n"
     ]
    }
   ],
   "source": [
    "c = np.concatenate((a, b))\n",
    "\n",
    "print(\"Array unido c:\", c)"
   ]
  },
  {
   "cell_type": "markdown",
   "id": "378dd0d9-1363-4dfb-ba87-674921eb979e",
   "metadata": {},
   "source": [
    "Ordenar los valores del ndarray c\n"
   ]
  },
  {
   "cell_type": "code",
   "execution_count": 37,
   "id": "5dc18067-228d-4596-b481-32f2bfd1c21e",
   "metadata": {},
   "outputs": [
    {
     "name": "stdout",
     "output_type": "stream",
     "text": [
      "Array ordenado: [ 5.  9. 10. 12. 13. 14. 16. 17. 18. 20. 21. 25.]\n"
     ]
    }
   ],
   "source": [
    "c = np.concatenate((a, b))\n",
    "\n",
    "c_ordenado = np.sort(c)\n",
    "print(\"Array ordenado:\", c_ordenado)"
   ]
  },
  {
   "cell_type": "markdown",
   "id": "7b311d70-aedb-42c5-a1d6-690d0a9919b3",
   "metadata": {},
   "source": [
    "**Ejercicio 13:**\n"
   ]
  },
  {
   "cell_type": "markdown",
   "id": "4965dab5-9b59-40b7-8246-4cf089550b74",
   "metadata": {},
   "source": [
    "Utilizar rg.random para generar un ndarray de 1000 números aleatorios entre el 0 y 1. La librería numpy tiene un módulo random con una función `default_rng` a la que hay que indicarle cuál es la semilla; por ejemplo, puedes usar el número 2\n"
   ]
  },
  {
   "cell_type": "code",
   "execution_count": 38,
   "id": "336bd3a7-b45d-4a1e-bcce-74910ec6b328",
   "metadata": {},
   "outputs": [],
   "source": [
    "rg = np.random.default_rng(seed=2)"
   ]
  },
  {
   "cell_type": "code",
   "execution_count": 39,
   "id": "b91eda2e-1ae1-44fe-845d-f38fa71da28e",
   "metadata": {},
   "outputs": [
    {
     "name": "stdout",
     "output_type": "stream",
     "text": [
      "[0.26161213 0.29849114 0.81422574 0.09191594 0.60010053 0.72856053\n",
      " 0.18790107 0.05514663 0.27496937 0.65743301 0.56226566 0.15006226\n",
      " 0.43263079 0.6692973  0.42278467 0.6331844  0.96743595 0.68306482\n",
      " 0.39162483 0.18725257 0.34596067 0.51106597 0.89120941 0.77556394\n",
      " 0.3181466  0.9242169  0.47090989 0.69375884 0.10720731 0.10454356\n",
      " 0.20190745 0.88444967 0.67981146 0.84923632 0.64443627 0.4065424\n",
      " 0.51657819 0.59344352 0.86211798 0.43818617 0.89224011 0.61371694\n",
      " 0.82935613 0.49805605 0.69251813 0.33902537 0.5228285  0.21622339\n",
      " 0.1007036  0.03860413 0.70194948 0.45643062 0.89773415 0.8351832\n",
      " 0.38509513 0.97367877 0.59206201 0.76588331 0.40719436 0.19616991\n",
      " 0.17177702 0.18120623 0.60380552 0.11263286 0.01991075 0.83299696\n",
      " 0.09941112 0.45058454 0.48849857 0.62027241 0.50401448 0.93734314\n",
      " 0.75039659 0.5744665  0.61727214 0.50655149 0.96476181 0.22662606\n",
      " 0.68902714 0.55509668 0.04201179 0.29615    0.92716694 0.78456486\n",
      " 0.01283109 0.29662633 0.00980535 0.82746694 0.11036759 0.05745518\n",
      " 0.98188334 0.44586988 0.318393   0.04901339 0.38959528 0.36603906\n",
      " 0.52348079 0.00678547 0.14796288 0.20988653 0.44050452 0.30230337\n",
      " 0.61332768 0.28543261 0.90963301 0.96186996 0.05943487 0.20905972\n",
      " 0.56302318 0.77066023 0.06402423 0.18480268 0.45672012 0.66869076\n",
      " 0.90332793 0.86697296 0.79375542 0.05273214 0.97663649 0.61462795\n",
      " 0.08611582 0.25492878 0.62075408 0.38564012 0.44660348 0.80458507\n",
      " 0.82403098 0.54678698 0.7924511  0.40600493 0.97448184 0.60515917\n",
      " 0.96769798 0.04398769 0.88269265 0.55937719 0.71363903 0.19259498\n",
      " 0.54869138 0.28927792 0.10548048 0.00318677 0.90684002 0.67090432\n",
      " 0.20502173 0.25781868 0.46559431 0.81828725 0.1176256  0.96778483\n",
      " 0.94391077 0.2446601  0.64078186 0.36009753 0.69732334 0.0869161\n",
      " 0.46996588 0.5884908  0.62647574 0.69279547 0.89138137 0.24125021\n",
      " 0.15319432 0.39060694 0.56882815 0.96052876 0.71050559 0.73844255\n",
      " 0.97271705 0.26774316 0.25946163 0.42254084 0.29542001 0.65110339\n",
      " 0.95171392 0.15351149 0.51794768 0.6775781  0.49317767 0.91374384\n",
      " 0.73689799 0.8821768  0.11176499 0.1957635  0.06570423 0.8293195\n",
      " 0.96281866 0.01399102 0.78925364 0.7278312  0.90818679 0.27038547\n",
      " 0.71477718 0.23742288 0.0760332  0.74520406 0.04221297 0.69959446\n",
      " 0.28346246 0.4874234  0.89153315 0.24340788 0.46832438 0.35504945\n",
      " 0.19038089 0.47365147 0.18163033 0.79900749 0.61482164 0.28313075\n",
      " 0.973105   0.34527684 0.67125666 0.73322373 0.26522639 0.0117638\n",
      " 0.89261588 0.95641651 0.17022808 0.15360521 0.43266742 0.59756957\n",
      " 0.98898263 0.96349612 0.98785284 0.24556942 0.5988832  0.43586914\n",
      " 0.2314023  0.06537737 0.16872837 0.35845173 0.08802173 0.15073899\n",
      " 0.04465149 0.62290627 0.49271648 0.243553   0.52634874 0.42444678\n",
      " 0.65915322 0.93266722 0.35329211 0.64515153 0.21891674 0.9398994\n",
      " 0.61769248 0.15874744 0.25705106 0.15915136 0.17913403 0.30679886\n",
      " 0.82307044 0.4570588  0.27716997 0.41907586 0.26739823 0.73368242\n",
      " 0.05878125 0.28922856 0.32324609 0.18151952 0.73815578 0.18024736\n",
      " 0.30048134 0.05647656 0.75558564 0.36386302 0.65592839 0.2172361\n",
      " 0.02180019 0.32241816 0.77906385 0.83744578 0.34883976 0.84694078\n",
      " 0.05034893 0.52211454 0.25742242 0.43907769 0.22164182 0.89356662\n",
      " 0.30217467 0.94529193 0.10909018 0.42983101 0.44344493 0.70943479\n",
      " 0.34502227 0.49249496 0.07044906 0.31103146 0.72498432 0.10591139\n",
      " 0.46253567 0.23672695 0.1654845  0.12131551 0.81386593 0.68665702\n",
      " 0.3794561  0.39164094 0.72845748 0.60395615 0.91601526 0.91941369\n",
      " 0.4821747  0.65913526 0.54466771 0.31028554 0.45351342 0.72117586\n",
      " 0.55268215 0.63240637 0.4870733  0.95297764 0.77646145 0.13078503\n",
      " 0.81410951 0.91757758 0.81665819 0.34310825 0.367909   0.24321437\n",
      " 0.05570471 0.47206135 0.85048018 0.76881159 0.6621989  0.84719067\n",
      " 0.65911387 0.22333342 0.80315508 0.36752    0.89006197 0.32648253\n",
      " 0.09190195 0.7298982  0.10764675 0.87021443 0.41192355 0.7801212\n",
      " 0.05256846 0.54383776 0.67689404 0.12950513 0.60839782 0.14302262\n",
      " 0.30398913 0.36528521 0.61958537 0.13011884 0.18482566 0.78125659\n",
      " 0.71587564 0.45420567 0.28200302 0.69220464 0.4678444  0.31151967\n",
      " 0.87468323 0.20184032 0.80428285 0.61781791 0.64598013 0.68215245\n",
      " 0.74827104 0.8809471  0.92058385 0.25548905 0.1638862  0.89637408\n",
      " 0.20382929 0.22196494 0.80525699 0.96611059 0.84454535 0.51673039\n",
      " 0.37560037 0.98855173 0.73606888 0.62909352 0.01112877 0.19519178\n",
      " 0.01349177 0.90704041 0.23646561 0.17102131 0.58256772 0.20310186\n",
      " 0.54653209 0.9497917  0.86390869 0.24512753 0.91617764 0.39939044\n",
      " 0.52303708 0.32497268 0.99995809 0.30707346 0.737276   0.61989604\n",
      " 0.68892332 0.10400655 0.53678881 0.99704736 0.56314343 0.19679411\n",
      " 0.05257312 0.32995251 0.74561653 0.02481358 0.04863821 0.65700802\n",
      " 0.88186714 0.43874838 0.62430676 0.25726181 0.27256318 0.47497741\n",
      " 0.21906648 0.45387996 0.14838181 0.92397493 0.64795107 0.09418871\n",
      " 0.19310735 0.82915273 0.37240304 0.26010407 0.02331807 0.67521685\n",
      " 0.57033139 0.84039444 0.16973045 0.75229518 0.82706877 0.82412116\n",
      " 0.74636475 0.44236588 0.04740683 0.64428142 0.02569125 0.08584249\n",
      " 0.4091233  0.12077795 0.45198276 0.8510432  0.17415722 0.79815495\n",
      " 0.99756073 0.037283   0.42314941 0.70754131 0.73168353 0.27990975\n",
      " 0.80902173 0.37128152 0.20075243 0.51783179 0.61247725 0.83773825\n",
      " 0.66398121 0.08311997 0.57485685 0.34414603 0.70504238 0.04506066\n",
      " 0.65735746 0.79157132 0.0401567  0.01536072 0.89189148 0.89542364\n",
      " 0.17658518 0.92245198 0.40661635 0.5190463  0.47087198 0.33500287\n",
      " 0.88424856 0.61057621 0.93247209 0.62207593 0.92485838 0.5152196\n",
      " 0.47489401 0.57131101 0.00591919 0.76764455 0.13961698 0.94396252\n",
      " 0.04429511 0.7081858  0.76858554 0.54163768 0.09575644 0.81150338\n",
      " 0.32121682 0.28797286 0.69238515 0.97182871 0.09614731 0.43627545\n",
      " 0.67334389 0.2769218  0.92499474 0.6027983  0.0756099  0.15476542\n",
      " 0.14325491 0.45600458 0.91025897 0.11228428 0.15129167 0.21172574\n",
      " 0.57309136 0.43021384 0.41830465 0.144937   0.82428303 0.47944939\n",
      " 0.86572777 0.03011478 0.45770009 0.3684166  0.84131338 0.69214217\n",
      " 0.52092413 0.16124838 0.68259365 0.89597382 0.77662201 0.96711665\n",
      " 0.59131801 0.3137366  0.22100306 0.79934162 0.81183764 0.63473214\n",
      " 0.78207289 0.4859756  0.85153847 0.69469176 0.24195175 0.587547\n",
      " 0.65613946 0.20283872 0.93577899 0.80555036 0.14526105 0.21989445\n",
      " 0.0021272  0.9394023  0.17436271 0.83381308 0.51160446 0.05711615\n",
      " 0.21142548 0.25771204 0.76435562 0.36764731 0.14193928 0.94634387\n",
      " 0.51451938 0.0665885  0.97299941 0.67532809 0.44104229 0.14572561\n",
      " 0.69336859 0.09698163 0.93923895 0.75150755 0.71313401 0.770281\n",
      " 0.86378313 0.4689278  0.81151346 0.11017816 0.70036622 0.75115026\n",
      " 0.21138699 0.11133799 0.91681299 0.89151201 0.10992255 0.58934796\n",
      " 0.18078792 0.20470232 0.92919233 0.6627969  0.7584632  0.28213424\n",
      " 0.77581363 0.66935946 0.34626693 0.49623646 0.24907852 0.59450206\n",
      " 0.18694388 0.44866577 0.85532659 0.65784283 0.60224058 0.1119182\n",
      " 0.82168075 0.61953581 0.94839913 0.93377553 0.93179895 0.53442176\n",
      " 0.76969508 0.10163128 0.04474598 0.78629822 0.67325024 0.94701235\n",
      " 0.30439726 0.49499616 0.78672871 0.60897904 0.84850315 0.39472534\n",
      " 0.84516247 0.86129733 0.90298399 0.39794645 0.90827594 0.30910327\n",
      " 0.5939051  0.97993049 0.64448812 0.59241674 0.36098745 0.51360948\n",
      " 0.49059894 0.67758551 0.53984254 0.31843589 0.19081465 0.98732843\n",
      " 0.61934903 0.17313969 0.33795313 0.65016206 0.23861847 0.8953391\n",
      " 0.54052343 0.68086001 0.66350032 0.16174409 0.9321474  0.84578276\n",
      " 0.14598698 0.56956286 0.5279328  0.30958655 0.3752215  0.25919392\n",
      " 0.63134325 0.42862469 0.10042342 0.22717449 0.15154658 0.6294987\n",
      " 0.55420062 0.39253385 0.54715822 0.62880705 0.21650102 0.05562417\n",
      " 0.96215879 0.18551305 0.24193546 0.70420057 0.98581611 0.12358773\n",
      " 0.40240606 0.85582478 0.08491591 0.25033644 0.61371778 0.82923206\n",
      " 0.10263636 0.41635547 0.59213171 0.54705089 0.53554141 0.99301659\n",
      " 0.98411915 0.21030714 0.25564014 0.40004198 0.10096844 0.14637315\n",
      " 0.56501523 0.9869442  0.29378302 0.19845887 0.61651994 0.29750548\n",
      " 0.01359419 0.09370409 0.87775262 0.10872602 0.64141413 0.41871556\n",
      " 0.76948405 0.50913604 0.23089804 0.21116944 0.23524108 0.23371029\n",
      " 0.25082029 0.29936638 0.59811942 0.52777106 0.06871761 0.42072396\n",
      " 0.92998013 0.93959585 0.31967223 0.15554033 0.29276942 0.13267831\n",
      " 0.25856908 0.92479562 0.87708237 0.45226507 0.5497937  0.70061621\n",
      " 0.70132227 0.69365893 0.73606297 0.5909845  0.13294688 0.68692783\n",
      " 0.66894323 0.16234668 0.19496082 0.63657494 0.38583867 0.81082634\n",
      " 0.27719726 0.66617906 0.61488419 0.11056069 0.27843425 0.35345639\n",
      " 0.30194219 0.09099549 0.23550291 0.53721973 0.22607817 0.63579054\n",
      " 0.41503913 0.45636295 0.20697351 0.78651879 0.07745509 0.94440349\n",
      " 0.58934317 0.94425135 0.5492193  0.35159908 0.36985564 0.92930105\n",
      " 0.52087061 0.39438049 0.15598451 0.15174028 0.4159864  0.45203882\n",
      " 0.80422819 0.1216879  0.45411715 0.13300579 0.2539561  0.49312825\n",
      " 0.87691588 0.13230636 0.17424819 0.70619961 0.52721846 0.087695\n",
      " 0.68100361 0.95834903 0.73825487 0.9964816  0.74279154 0.3289304\n",
      " 0.80034595 0.56787535 0.09133995 0.36243271 0.9462756  0.65492738\n",
      " 0.36991639 0.70850435 0.68315782 0.15832343 0.46072496 0.80586212\n",
      " 0.11635039 0.54763839 0.11886073 0.2748959  0.7664542  0.3576982\n",
      " 0.82241602 0.72611174 0.63568696 0.1503833  0.45219568 0.87827864\n",
      " 0.63267066 0.06868851 0.5020887  0.46688802 0.48721682 0.41454647\n",
      " 0.81367542 0.53227498 0.85831323 0.95351183 0.895208   0.76981454\n",
      " 0.02147006 0.00177836 0.17154903 0.51715473 0.29937142 0.1322176\n",
      " 0.92680632 0.42984618 0.19876075 0.51155671 0.98164917 0.72294483\n",
      " 0.92461748 0.11612272 0.74103998 0.33755783 0.36019266 0.45678005\n",
      " 0.46275665 0.79093517 0.29575051 0.46146589 0.43313903 0.62254965\n",
      " 0.5585949  0.04740737 0.85397489 0.64256909 0.15212173 0.49579331\n",
      " 0.90028886 0.88276535 0.40365408 0.2382463  0.95181841 0.73519472\n",
      " 0.66333272 0.40889652 0.86521375 0.19289379 0.82802054 0.80025525\n",
      " 0.52225306 0.3639548  0.68624492 0.38830638 0.41360367 0.26964155\n",
      " 0.78326828 0.15382401 0.4950853  0.44201682 0.98606868 0.11027778\n",
      " 0.56549225 0.22175259 0.95042397 0.12571714 0.9163971  0.64561621\n",
      " 0.19077339 0.41446536 0.2757438  0.47744453 0.82471407 0.48091166\n",
      " 0.98513651 0.91160761 0.21626896 0.1326575  0.68394761 0.35990371\n",
      " 0.26540484 0.92549658 0.57841146 0.26855311 0.56333748 0.55038301\n",
      " 0.79926246 0.41226899 0.50416439 0.15219385 0.8487494  0.9192292\n",
      " 0.00214704 0.75543213 0.973171   0.85903306 0.79949204 0.2153267\n",
      " 0.99076444 0.37323376 0.85775385 0.7783426  0.60671695 0.9649848\n",
      " 0.95737623 0.44370039 0.47245969 0.90305327 0.45135175 0.8689432\n",
      " 0.22692452 0.25245973 0.38753314 0.30885314 0.45316705 0.2215557\n",
      " 0.16398265 0.38067023 0.17772138 0.3432666  0.39672897 0.9420742\n",
      " 0.41695678 0.59084393 0.92405279 0.44420321 0.27553312 0.56724901\n",
      " 0.82470659 0.28400078 0.73733227 0.48127851 0.52816772 0.644314\n",
      " 0.46781092 0.1862254  0.23138241 0.04836611 0.88172958 0.6517751\n",
      " 0.93894598 0.31762257 0.55897519 0.57045233 0.13952009 0.55569569\n",
      " 0.60553346 0.4316789  0.34920036 0.23630718 0.07699087 0.59871844\n",
      " 0.19644018 0.08057523 0.98344255 0.8902411  0.36113692 0.47101246\n",
      " 0.2046988  0.98639626 0.30079772 0.83557173 0.74744073 0.01679759\n",
      " 0.0373027  0.44008969 0.03064513 0.91833795 0.97035205 0.61271034\n",
      " 0.30587525 0.21294377 0.13591121 0.56687434 0.15733404 0.21963747\n",
      " 0.71950734 0.86910493 0.63325264 0.95613918]\n"
     ]
    }
   ],
   "source": [
    "array_aleatorio = rg.random(1000)\n",
    "\n",
    "print(array_aleatorio)"
   ]
  },
  {
   "cell_type": "markdown",
   "id": "5d8e1328",
   "metadata": {},
   "source": [
    "Dibuja el histograma de los datos. Un histograma es una representación gráfica de la distribución de un conjunto de datos numéricos, dividiendo los valores en intervalos (bins) y contando la frecuencia de los valores en cada intervalo. Usa un bins de 100\n"
   ]
  },
  {
   "cell_type": "code",
   "execution_count": 40,
   "id": "ef9d7a03",
   "metadata": {},
   "outputs": [
    {
     "data": {
      "image/png": "[encoded data removed]",
      "text/plain": [
       "<Figure size 640x480 with 1 Axes>"
      ]
     },
     "metadata": {},
     "output_type": "display_data"
    }
   ],
   "source": [
    "rg = np.random.default_rng(seed=2)\n",
    "datos = rg.random(1000)\n",
    "\n",
    "# Dibujar histograma con 100 bins\n",
    "plt.hist(datos, bins=100, edgecolor='black')\n",
    "\n",
    "plt.title(\"Histograma de números aleatorios\")\n",
    "plt.xlabel(\"Valor\")\n",
    "plt.ylabel(\"Frecuencia\")\n",
    "\n",
    "plt.show()"
   ]
  },
  {
   "cell_type": "markdown",
   "id": "93474f2c-03ed-4c5e-8eaf-58503cf1476e",
   "metadata": {},
   "source": [
    "**Ejercicio 14:**\n"
   ]
  },
  {
   "cell_type": "markdown",
   "id": "ce6d972e-370e-4c20-aa5f-da7842f765a9",
   "metadata": {},
   "source": [
    "Utilizar rg.normal para generar 100000 valores aleatorios que sigan una distribución normal. Haz que tenga una media de 10 y una desviación de estándar de 5\n"
   ]
  },
  {
   "cell_type": "code",
   "execution_count": 41,
   "id": "f6cd3814-1cf1-47cf-98be-2dac3bcd3573",
   "metadata": {},
   "outputs": [
    {
     "name": "stdout",
     "output_type": "stream",
     "text": [
      "[10.94526691  7.38625779  7.93468228 -2.20733691 18.99853691 15.72082936\n",
      "  8.37288582 13.86903293 11.40605335  7.23088582]\n"
     ]
    }
   ],
   "source": [
    "rg = np.random.default_rng(seed=2)\n",
    "\n",
    "datos_normal = rg.normal(loc=10, scale=5, size=100000)\n",
    "\n",
    "print(datos_normal[:10])"
   ]
  },
  {
   "cell_type": "markdown",
   "id": "a7aeac96",
   "metadata": {},
   "source": [
    "Dibuja el histograma con un bins de 1000 y verás la forma que tienen las distribuciones normales\n"
   ]
  },
  {
   "cell_type": "code",
   "execution_count": null,
   "id": "6aefe781-fce0-475e-b583-09642e942696",
   "metadata": {},
   "outputs": [
    {
     "data": {
      "image/png": "[encoded data removed]",
      "text/plain": [
       "<Figure size 640x480 with 1 Axes>"
      ]
     },
     "metadata": {},
     "output_type": "display_data"
    }
   ],
   "source": [
    "rg = np.random.default_rng(seed=2)\n",
    "datos_normal = rg.normal(loc=10, scale=5, size=100000)\n",
    "\n",
    "plt.hist(datos_normal, bins=1000, edgecolor='black')\n",
    "\n",
    "plt.title(\"Histograma de distribución normal (media=10, std=5)\")\n",
    "plt.xlabel(\"Valor\")\n",
    "plt.ylabel(\"Frecuencia\")\n",
    "\n",
    "plt.show()"
   ]
  },
  {
   "cell_type": "markdown",
   "id": "1159dfcb-d59b-48f4-89b6-a1b5778595a0",
   "metadata": {},
   "source": [
    "**Ejercicio 15:**\n"
   ]
  },
  {
   "cell_type": "markdown",
   "id": "55d97f65-d5b4-4a8d-90c9-d6ef6759c209",
   "metadata": {},
   "source": [
    "Utilizar rg.integers para generar 2000 números aleatorios enteros entre el 0 y el 19. Utiliza la segunda celda para pintar el histograma\n"
   ]
  },
  {
   "cell_type": "code",
   "execution_count": 43,
   "id": "545685a7-641e-412c-a0e4-568654ce2220",
   "metadata": {},
   "outputs": [],
   "source": [
    "rg = np.random.default_rng(seed=2)"
   ]
  },
  {
   "cell_type": "code",
   "execution_count": 44,
   "id": "87b4f720-2e82-41ae-85e6-2ca3e70eeecd",
   "metadata": {},
   "outputs": [
    {
     "name": "stdout",
     "output_type": "stream",
     "text": [
      "[16  5  2  5  8 16  9  1  6 12]\n"
     ]
    }
   ],
   "source": [
    "enteros = rg.integers(low=0, high=20, size=2000)\n",
    "\n",
    "print(enteros[:10])"
   ]
  },
  {
   "cell_type": "code",
   "execution_count": null,
   "id": "8fd03ef3-875a-44ba-914c-26e57cd4dcba",
   "metadata": {},
   "outputs": [],
   "source": [
    "#np.unique(enteros, return_counts=True) Comprobar que los valores son muy similares"
   ]
  },
  {
   "cell_type": "markdown",
   "id": "3324d3f5-a77a-42c0-ba7e-25313e43bb58",
   "metadata": {},
   "source": [
    "**Ejercicio 16:**\n"
   ]
  },
  {
   "cell_type": "markdown",
   "id": "d907b4dc-301e-4b21-bde5-4dd96fdcd076",
   "metadata": {},
   "source": [
    "Utilizar rg.choice para elegir 10 números aleatorios SIN REPETIR entre el 0 y el 25\n"
   ]
  },
  {
   "cell_type": "code",
   "execution_count": 46,
   "id": "7ec02ffd-eef3-4e3e-b2e9-59450b94d3bd",
   "metadata": {},
   "outputs": [
    {
     "name": "stdout",
     "output_type": "stream",
     "text": [
      "Números elegidos sin repetir: [15  5  8  2 14 17  4 23 10 24]\n"
     ]
    }
   ],
   "source": [
    "rg = np.random.default_rng(seed=2)\n",
    "\n",
    "eleccion = rg.choice(np.arange(26), size=10, replace=False)\n",
    "\n",
    "print(\"Números elegidos sin repetir:\", eleccion)"
   ]
  },
  {
   "cell_type": "markdown",
   "id": "385775b3-86a0-4715-908b-dfa75dca95f2",
   "metadata": {},
   "source": [
    "**Ejercicio 17:**\n"
   ]
  },
  {
   "cell_type": "code",
   "execution_count": 47,
   "id": "76b0c5a0-5b28-48fe-9485-baad8cf663c6",
   "metadata": {},
   "outputs": [
    {
     "data": {
      "text/plain": [
       "array([13,  6, 11,  5,  3, 14,  8, 13])"
      ]
     },
     "execution_count": 47,
     "metadata": {},
     "output_type": "execute_result"
    }
   ],
   "source": [
    "estadisticos = rg.integers(20,size=8)\n",
    "estadisticos"
   ]
  },
  {
   "cell_type": "markdown",
   "id": "012b5e04-220e-433c-b0ec-b21aa9d326cf",
   "metadata": {},
   "source": [
    "Utilizar la función min() para obtener el valor mínimo en el ndarray \"estadisticos\"\n"
   ]
  },
  {
   "cell_type": "code",
   "execution_count": 48,
   "id": "e4a38410-43ac-4c7c-92bd-c3d65c0b5432",
   "metadata": {},
   "outputs": [
    {
     "name": "stdout",
     "output_type": "stream",
     "text": [
      "Valor mínimo: 3\n"
     ]
    }
   ],
   "source": [
    "minimo = np.min(estadisticos)\n",
    "print(\"Valor mínimo:\", minimo)"
   ]
  },
  {
   "cell_type": "markdown",
   "id": "117dddae-3654-43cf-9e8d-54e783a674cb",
   "metadata": {},
   "source": [
    "Utilizar la función max() para obtener el valor máximo en el ndarray \"estadisticos\"\n"
   ]
  },
  {
   "cell_type": "code",
   "execution_count": 49,
   "id": "abaf6bb5-c24d-4607-b7e2-f6fafde47d97",
   "metadata": {},
   "outputs": [
    {
     "name": "stdout",
     "output_type": "stream",
     "text": [
      "Valor máximo: 14\n"
     ]
    }
   ],
   "source": [
    "maximo = np.max(estadisticos)\n",
    "print(\"Valor máximo:\", maximo)"
   ]
  },
  {
   "cell_type": "markdown",
   "id": "fd88688f-2bc0-4c5d-bcd2-af6fe9e99411",
   "metadata": {},
   "source": [
    "Utilizar la función mean() para obtener el valor promedio en el ndarray \"estadisticos\"\n"
   ]
  },
  {
   "cell_type": "code",
   "execution_count": 50,
   "id": "3b38b3b3-2245-4731-af11-7e19474af1cc",
   "metadata": {},
   "outputs": [
    {
     "name": "stdout",
     "output_type": "stream",
     "text": [
      "Valor promedio: 9.125\n"
     ]
    }
   ],
   "source": [
    "promedio = np.mean(estadisticos)\n",
    "print(\"Valor promedio:\", promedio)"
   ]
  },
  {
   "cell_type": "markdown",
   "id": "e0ef2fef-cad0-4579-a8ce-b298b42fb330",
   "metadata": {},
   "source": [
    "Utilizar la función std() para obtener el valor de la desviación estandar en el ndarray \"estadisticos\"\n"
   ]
  },
  {
   "cell_type": "code",
   "execution_count": 51,
   "id": "77c908c4-d007-4baa-801a-314aab7b2369",
   "metadata": {},
   "outputs": [
    {
     "name": "stdout",
     "output_type": "stream",
     "text": [
      "Desviación estándar: 3.9191038516477206\n"
     ]
    }
   ],
   "source": [
    "desviacion = np.std(estadisticos)\n",
    "print(\"Desviación estándar:\", desviacion)"
   ]
  },
  {
   "cell_type": "markdown",
   "id": "979aded7-3aa6-4248-b2f6-ea271c5f6e79",
   "metadata": {},
   "source": [
    "Utilizar la función sum() para obtener el valor al sumar todos los números en el ndarray \"estadisticos\"\n"
   ]
  },
  {
   "cell_type": "code",
   "execution_count": 52,
   "id": "ee48bd78-1b9b-4c32-b270-62f6f20a1c63",
   "metadata": {},
   "outputs": [
    {
     "name": "stdout",
     "output_type": "stream",
     "text": [
      "Suma total: 73\n"
     ]
    }
   ],
   "source": [
    "suma = np.sum(estadisticos)\n",
    "print(\"Suma total:\", suma)"
   ]
  },
  {
   "cell_type": "markdown",
   "id": "b8a7f523-541e-4ffc-9090-f6a18f852ef2",
   "metadata": {},
   "source": [
    "**Ejercicio 18:**\n"
   ]
  },
  {
   "cell_type": "code",
   "execution_count": 53,
   "id": "acb73618-214c-4fcb-b022-1a97e618f4b1",
   "metadata": {},
   "outputs": [
    {
     "data": {
      "text/plain": [
       "array([[13, 18,  8,  4],\n",
       "       [12, 18, 19, 17],\n",
       "       [13,  7,  7,  0],\n",
       "       [ 3,  6,  6, 11],\n",
       "       [10, 13, 17, 17]])"
      ]
     },
     "execution_count": 53,
     "metadata": {},
     "output_type": "execute_result"
    }
   ],
   "source": [
    "estadisticos_2d = rg.integers(20,size=(5,4))\n",
    "estadisticos_2d"
   ]
  },
  {
   "cell_type": "markdown",
   "id": "88696800-dfdf-4b5f-bf3b-8412b1a84e19",
   "metadata": {},
   "source": [
    "Utilizar la función min() para obtener el valor mínimo de cada columna en el ndarray \"estadisticos_2d\"\n"
   ]
  },
  {
   "cell_type": "code",
   "execution_count": 54,
   "id": "fdc54d32-3db7-4e6c-a9ef-b87680bcc1fd",
   "metadata": {},
   "outputs": [
    {
     "name": "stdout",
     "output_type": "stream",
     "text": [
      "Mínimos por columna: [3 6 6 0]\n"
     ]
    }
   ],
   "source": [
    "minimos_columnas = estadisticos_2d.min(axis=0)\n",
    "print(\"Mínimos por columna:\", minimos_columnas)"
   ]
  },
  {
   "cell_type": "markdown",
   "id": "7e18ef29-8d28-41ee-b42a-c5788b7179a5",
   "metadata": {},
   "source": [
    "Utilizar la función max() para obtener el valor mínimo de cada fila en el ndarray \"estadisticos_2d\"\n"
   ]
  },
  {
   "cell_type": "code",
   "execution_count": 55,
   "id": "86f54bac-4399-46d6-8a11-866cab776aa0",
   "metadata": {},
   "outputs": [
    {
     "name": "stdout",
     "output_type": "stream",
     "text": [
      "Mínimos por fila: [ 4 12  0  3 10]\n"
     ]
    }
   ],
   "source": [
    "minimos_filas = estadisticos_2d.min(axis=1)\n",
    "print(\"Mínimos por fila:\", minimos_filas)"
   ]
  },
  {
   "cell_type": "markdown",
   "id": "e1fa802b-7974-471d-a02a-7e17a6ab7ae4",
   "metadata": {},
   "source": [
    "**Ejercicio 19:**\n"
   ]
  },
  {
   "cell_type": "code",
   "execution_count": 57,
   "id": "ae7128dd-fdb9-49e7-a68f-b89aa5e7eb6d",
   "metadata": {},
   "outputs": [
    {
     "data": {
      "text/plain": [
       "array([[13, 18,  8,  4],\n",
       "       [12, 18, 19, 17],\n",
       "       [13,  7,  7,  0],\n",
       "       [ 3,  6,  6, 11],\n",
       "       [10, 13, 17, 17]])"
      ]
     },
     "execution_count": 57,
     "metadata": {},
     "output_type": "execute_result"
    }
   ],
   "source": [
    "estadisticos_2d"
   ]
  },
  {
   "cell_type": "markdown",
   "id": "28e17497-4e11-4fad-9cf5-727078caf77e",
   "metadata": {},
   "source": [
    "Obtener los valores menores a 12 en el ndarray \"estadisticos_2d\"\n"
   ]
  },
  {
   "cell_type": "code",
   "execution_count": 56,
   "id": "65137100-5cbc-4047-b8c7-bc9d20e0e3ca",
   "metadata": {},
   "outputs": [],
   "source": [
    "menores_12 = estadisticos_2d[estadisticos_2d < 12]"
   ]
  },
  {
   "cell_type": "code",
   "execution_count": 58,
   "id": "5ff3cdc3-7b84-424f-8b1f-b7d9a8851d03",
   "metadata": {},
   "outputs": [
    {
     "name": "stdout",
     "output_type": "stream",
     "text": [
      "Valores menores a 12: [ 8  4  7  7  0  3  6  6 11 10]\n"
     ]
    }
   ],
   "source": [
    "print(\"Valores menores a 12:\", menores_12)"
   ]
  },
  {
   "cell_type": "markdown",
   "id": "a6008ae4-8a10-4ff4-92f1-1f82b82c8b5a",
   "metadata": {},
   "source": [
    "**Ejercicio 20:**\n"
   ]
  },
  {
   "cell_type": "code",
   "execution_count": null,
   "id": "25fdd4ed-5a3f-4a3b-8a08-486776700b92",
   "metadata": {},
   "outputs": [],
   "source": [
    "np1 = rg.integers(20,size=(3,3))\n",
    "np2 = rg.integers(20,size=(3,3))\n",
    "print(np1,\"\\n\\n\",np2)"
   ]
  },
  {
   "cell_type": "markdown",
   "id": "ad017f47-c974-4168-9c79-bd407cec5ef8",
   "metadata": {},
   "source": [
    "Utilizar np.vstack para unir los ndarray \"np1\" y \"np2\" verticalmente\n"
   ]
  },
  {
   "cell_type": "code",
   "execution_count": 61,
   "id": "c8b9b36b-7bfb-4027-91ea-626227546983",
   "metadata": {},
   "outputs": [
    {
     "name": "stdout",
     "output_type": "stream",
     "text": [
      "np1:\n",
      " [[16  5  2]\n",
      " [ 5  8 16]\n",
      " [ 9  1  6]] \n",
      "\n",
      "np2:\n",
      " [[12 16 14]\n",
      " [19  3 17]\n",
      " [ 1 11  5]] \n",
      "\n",
      "Unión vertical:\n",
      " [[16  5  2]\n",
      " [ 5  8 16]\n",
      " [ 9  1  6]\n",
      " [12 16 14]\n",
      " [19  3 17]\n",
      " [ 1 11  5]]\n"
     ]
    }
   ],
   "source": [
    "rg = np.random.default_rng(seed=2)\n",
    "np1 = rg.integers(20, size=(3,3))\n",
    "np2 = rg.integers(20, size=(3,3))\n",
    "print(\"np1:\\n\", np1, \"\\n\")\n",
    "print(\"np2:\\n\", np2, \"\\n\")\n",
    "unido_vertical = np.vstack((np1, np2))\n",
    "print(\"Unión vertical:\\n\", unido_vertical)"
   ]
  },
  {
   "cell_type": "markdown",
   "id": "66f8921c-45d8-4c7d-9430-999d5fa3c335",
   "metadata": {},
   "source": [
    "Utilizar np.vstack para unir los ndarray \"np1\" y \"np2\" horizontalmente\n"
   ]
  },
  {
   "cell_type": "code",
   "execution_count": 62,
   "id": "44fbc502-904a-461e-a74f-23d10bc37a12",
   "metadata": {},
   "outputs": [
    {
     "name": "stdout",
     "output_type": "stream",
     "text": [
      "Unión horizontal:\n",
      " [[16  5  2 12 16 14]\n",
      " [ 5  8 16 19  3 17]\n",
      " [ 9  1  6  1 11  5]]\n"
     ]
    }
   ],
   "source": [
    "unido_horizontal = np.hstack((np1, np2))\n",
    "print(\"Unión horizontal:\\n\", unido_horizontal)"
   ]
  },
  {
   "cell_type": "markdown",
   "id": "a7eafbf0-968b-41cb-b966-c67bb42bf049",
   "metadata": {},
   "source": [
    "**Ejercicio 21:**\n"
   ]
  },
  {
   "cell_type": "code",
   "execution_count": 63,
   "id": "a929ea5f-6635-48f3-a32a-d6f5bea564f7",
   "metadata": {},
   "outputs": [
    {
     "data": {
      "text/plain": [
       "array([ 4, 13,  6, 11,  5,  3, 14,  8, 13, 13])"
      ]
     },
     "execution_count": 63,
     "metadata": {},
     "output_type": "execute_result"
    }
   ],
   "source": [
    "enteros = rg.integers(20,size=(10))\n",
    "enteros"
   ]
  },
  {
   "cell_type": "markdown",
   "id": "f07668c4-1d9a-46e9-8e6d-a80aaeb3961c",
   "metadata": {},
   "source": [
    "Seleccionar los primeros 6 valores del ndarray \"enteros\"\n"
   ]
  },
  {
   "cell_type": "code",
   "execution_count": 64,
   "id": "62f98dce-8e1e-4749-86b4-e1bed5f44081",
   "metadata": {},
   "outputs": [
    {
     "name": "stdout",
     "output_type": "stream",
     "text": [
      "Primeros 6 valores: [ 4 13  6 11  5  3]\n"
     ]
    }
   ],
   "source": [
    "primeros_6 = enteros[:6]\n",
    "print(\"Primeros 6 valores:\", primeros_6)"
   ]
  },
  {
   "cell_type": "markdown",
   "id": "7c243a71-e44a-4467-9621-0da26997e335",
   "metadata": {},
   "source": [
    "Seleccionar los valores en la posición 0,2 y 4 del ndarray \"enteros\"\n"
   ]
  },
  {
   "cell_type": "code",
   "execution_count": 65,
   "id": "5e09e7ea-3ac8-48ba-8330-9b4213db98bb",
   "metadata": {},
   "outputs": [
    {
     "name": "stdout",
     "output_type": "stream",
     "text": [
      "Valores en posiciones 0, 2 y 4: [4 6 5]\n"
     ]
    }
   ],
   "source": [
    "seleccion = enteros[[0, 2, 4]]\n",
    "print(\"Valores en posiciones 0, 2 y 4:\", seleccion)"
   ]
  },
  {
   "cell_type": "markdown",
   "id": "6178664b-de22-41cb-a499-53d704784b94",
   "metadata": {},
   "source": [
    "Seleccionar todos los valores con un indice par en el ndarray \"enteros\" (0,2,4,...)\n"
   ]
  },
  {
   "cell_type": "code",
   "execution_count": 66,
   "id": "11169abe-382b-4b5f-8332-371f3edabcfc",
   "metadata": {},
   "outputs": [
    {
     "name": "stdout",
     "output_type": "stream",
     "text": [
      "Valores en índices pares: [ 4  6  5 14 13]\n"
     ]
    }
   ],
   "source": [
    "valores_pares = enteros[::2]\n",
    "print(\"Valores en índices pares:\", valores_pares)"
   ]
  },
  {
   "cell_type": "markdown",
   "id": "fd2d863b-c2cf-4de4-bcdc-59fdfb9170a5",
   "metadata": {},
   "source": [
    "**Ejercicio 22:**\n"
   ]
  },
  {
   "cell_type": "code",
   "execution_count": 67,
   "id": "6c5257e2-4553-48a6-a8f2-765c128d18c3",
   "metadata": {},
   "outputs": [
    {
     "data": {
      "text/plain": [
       "array([[18,  8,  4, 12, 18],\n",
       "       [19, 17, 13,  7,  7],\n",
       "       [ 0,  3,  6,  6, 11],\n",
       "       [10, 13, 17, 17, 15],\n",
       "       [19,  6, 18, 18,  4],\n",
       "       [ 9, 11, 13, 14,  2],\n",
       "       [ 9,  2, 19,  4,  8],\n",
       "       [17, 10, 13,  9, 16]])"
      ]
     },
     "execution_count": 67,
     "metadata": {},
     "output_type": "execute_result"
    }
   ],
   "source": [
    "enteros_2d = rg.integers(20,size=(8,5))\n",
    "enteros_2d"
   ]
  },
  {
   "cell_type": "markdown",
   "id": "37bc0a12-9c60-4973-a312-80804c150ada",
   "metadata": {},
   "source": [
    "Seleccionar el cuarto valor en el segundo array de \"enteros_2d\"\n"
   ]
  },
  {
   "cell_type": "code",
   "execution_count": 68,
   "id": "b1647bbd-6a30-4d1b-a04e-2381da07d9d0",
   "metadata": {},
   "outputs": [
    {
     "name": "stdout",
     "output_type": "stream",
     "text": [
      "Cuarto valor del segundo array: 7\n"
     ]
    }
   ],
   "source": [
    "valor = enteros_2d[1, 3]\n",
    "print(\"Cuarto valor del segundo array:\", valor)"
   ]
  },
  {
   "cell_type": "markdown",
   "id": "8735f0f9-4d36-4640-b47c-539587896e73",
   "metadata": {},
   "source": [
    "Seleccionar el segundo valor en los arrays con indice 3, 4 y 5 de \"enteros_2d\"\n"
   ]
  },
  {
   "cell_type": "code",
   "execution_count": 69,
   "id": "40b2a7ad-eaea-425d-a8bc-058fba013c59",
   "metadata": {},
   "outputs": [
    {
     "name": "stdout",
     "output_type": "stream",
     "text": [
      "Segundo valor en filas 3, 4 y 5: [13  6 11]\n"
     ]
    }
   ],
   "source": [
    "valores = enteros_2d[[3, 4, 5], 1]\n",
    "print(\"Segundo valor en filas 3, 4 y 5:\", valores)\n"
   ]
  },
  {
   "cell_type": "markdown",
   "id": "ed773fbb-8795-4e25-adb1-3952ab3be59f",
   "metadata": {},
   "source": [
    "Seleccionar los 2 primeros valores en los arrays con indice 4, 5 y 6 de \"enteros_2d\"\n"
   ]
  },
  {
   "cell_type": "code",
   "execution_count": 70,
   "id": "730ceebe-04bc-46d1-a8a2-d98207d66afb",
   "metadata": {},
   "outputs": [
    {
     "name": "stdout",
     "output_type": "stream",
     "text": [
      "Dos primeros valores en filas 4, 5 y 6:\n",
      " [[19  6]\n",
      " [ 9 11]\n",
      " [ 9  2]]\n"
     ]
    }
   ],
   "source": [
    "valores = enteros_2d[[4, 5, 6], :2]\n",
    "print(\"Dos primeros valores en filas 4, 5 y 6:\\n\", valores)"
   ]
  }
 ],
 "metadata": {
  "kernelspec": {
   "display_name": "Python 3",
   "language": "python",
   "name": "python3"
  },
  "language_info": {
   "codemirror_mode": {
    "name": "ipython",
    "version": 3
   },
   "file_extension": ".py",
   "mimetype": "text/x-python",
   "name": "python",
   "nbconvert_exporter": "python",
   "pygments_lexer": "ipython3",
   "version": "3.13.5"
  }
 },
 "nbformat": 4,
 "nbformat_minor": 5
}
